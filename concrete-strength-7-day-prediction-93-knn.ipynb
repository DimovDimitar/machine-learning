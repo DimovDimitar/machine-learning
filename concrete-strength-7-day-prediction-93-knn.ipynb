{
 "cells": [
  {
   "cell_type": "code",
   "execution_count": 1,
   "id": "8d888f4d",
   "metadata": {
    "_cell_guid": "b1076dfc-b9ad-4769-8c92-a6c4dae69d19",
    "_uuid": "8f2839f25d086af736a60e9eeb907d3b93b6e0e5",
    "execution": {
     "iopub.execute_input": "2022-08-15T12:36:56.537020Z",
     "iopub.status.busy": "2022-08-15T12:36:56.536408Z",
     "iopub.status.idle": "2022-08-15T12:36:56.563126Z",
     "shell.execute_reply": "2022-08-15T12:36:56.560663Z"
    },
    "papermill": {
     "duration": 0.038599,
     "end_time": "2022-08-15T12:36:56.566266",
     "exception": false,
     "start_time": "2022-08-15T12:36:56.527667",
     "status": "completed"
    },
    "tags": []
   },
   "outputs": [
    {
     "name": "stdout",
     "output_type": "stream",
     "text": [
      "/kaggle/input/concrete-mix-design-and-strength/2500 Concrete design mixes.csv\n"
     ]
    }
   ],
   "source": [
    "import numpy as np # linear algebra\n",
    "import pandas as pd # data processing, CSV file I/O (e.g. pd.read_csv)\n",
    "import os\n",
    "for dirname, _, filenames in os.walk('/kaggle/input'):\n",
    "    for filename in filenames:\n",
    "        print(os.path.join(dirname, filename))"
   ]
  },
  {
   "cell_type": "markdown",
   "id": "6fb6e99d",
   "metadata": {
    "papermill": {
     "duration": 0.005162,
     "end_time": "2022-08-15T12:36:56.576851",
     "exception": false,
     "start_time": "2022-08-15T12:36:56.571689",
     "status": "completed"
    },
    "tags": []
   },
   "source": [
    "As mentioned in the dataset description, concrete's carbon footprint is massive. One way of reducing the embedded C02 is to decrease the amount of cement used whilst still achieving the same 7 and 28 day strength values. \n",
    "\n",
    "The simple analysis below follows \"concrete\" logic, rather than statistical correlation between columns and data. In other words, I will focus on what is important from concrete chemistry perspective."
   ]
  },
  {
   "cell_type": "code",
   "execution_count": 2,
   "id": "28faffd2",
   "metadata": {
    "execution": {
     "iopub.execute_input": "2022-08-15T12:36:56.589294Z",
     "iopub.status.busy": "2022-08-15T12:36:56.588260Z",
     "iopub.status.idle": "2022-08-15T12:36:56.620086Z",
     "shell.execute_reply": "2022-08-15T12:36:56.619059Z"
    },
    "papermill": {
     "duration": 0.040909,
     "end_time": "2022-08-15T12:36:56.622882",
     "exception": false,
     "start_time": "2022-08-15T12:36:56.581973",
     "status": "completed"
    },
    "tags": []
   },
   "outputs": [],
   "source": [
    "g25 = pd.read_csv(\"/kaggle/input/concrete-mix-design-and-strength/2500 Concrete design mixes.csv\")"
   ]
  },
  {
   "cell_type": "code",
   "execution_count": 3,
   "id": "0a4b2b40",
   "metadata": {
    "execution": {
     "iopub.execute_input": "2022-08-15T12:36:56.635202Z",
     "iopub.status.busy": "2022-08-15T12:36:56.634398Z",
     "iopub.status.idle": "2022-08-15T12:36:56.674748Z",
     "shell.execute_reply": "2022-08-15T12:36:56.673083Z"
    },
    "papermill": {
     "duration": 0.049371,
     "end_time": "2022-08-15T12:36:56.677274",
     "exception": false,
     "start_time": "2022-08-15T12:36:56.627903",
     "status": "completed"
    },
    "tags": []
   },
   "outputs": [
    {
     "name": "stdout",
     "output_type": "stream",
     "text": [
      "<class 'pandas.core.frame.DataFrame'>\n",
      "RangeIndex: 2286 entries, 0 to 2285\n",
      "Data columns (total 23 columns):\n",
      " #   Column                                      Non-Null Count  Dtype  \n",
      "---  ------                                      --------------  -----  \n",
      " 0   Unnamed: 0                                  2286 non-null   int64  \n",
      " 1   Type_of_course_Aggregate                    2286 non-null   object \n",
      " 2   Type_of_Fine_Aggregate_                     2286 non-null   object \n",
      " 3   Max._Size_of_Coarse_Aggregate_(mm)          2286 non-null   object \n",
      " 4   Passing_0.6_mm_Sieve_(%)                    2286 non-null   float64\n",
      " 5   Target_Mean_Strength_(N/mm2)                2286 non-null   object \n",
      " 6   Cement_O.P.C_(Kg/m3)                        2286 non-null   float64\n",
      " 7   W/C_Ratio                                   2286 non-null   float64\n",
      " 8   Water_Content_(Kg/m3)                       2286 non-null   float64\n",
      " 9   Additive_Type_&_Dosage_(/100_kg_of_cement)  2286 non-null   object \n",
      " 10  Total_Aggregate_(Kg/m3)                     2286 non-null   float64\n",
      " 11  Fine_Aggregate_(Kg/m3)                      2286 non-null   float64\n",
      " 12  Coarse_Aggregate_(Kg/m3)                    2286 non-null   float64\n",
      " 13  Workability_Slump_(mm)                      2286 non-null   float64\n",
      " 14  Hardened_Concrete_Desnity_(avg.)            2286 non-null   float64\n",
      " 15  7_day_str                                   2286 non-null   float64\n",
      " 16  28_day_str                                  2286 non-null   float64\n",
      " 17  Type_of_Coarse_Aggregate                    2286 non-null   object \n",
      " 18  Type_of_Fine_Aggregate                      2286 non-null   object \n",
      " 19  Passing_0.6mm_Sieve(%)                      2286 non-null   float64\n",
      " 20  Additive_Type_&_Dos._(/100_Kg_of_cement)    2286 non-null   object \n",
      " 21  Admix_type                                  1028 non-null   object \n",
      " 22  Admix_dosage                                796 non-null    object \n",
      "dtypes: float64(12), int64(1), object(10)\n",
      "memory usage: 410.9+ KB\n"
     ]
    }
   ],
   "source": [
    "g25.info()"
   ]
  },
  {
   "cell_type": "code",
   "execution_count": 4,
   "id": "47b66513",
   "metadata": {
    "execution": {
     "iopub.execute_input": "2022-08-15T12:36:56.689842Z",
     "iopub.status.busy": "2022-08-15T12:36:56.689024Z",
     "iopub.status.idle": "2022-08-15T12:36:56.696863Z",
     "shell.execute_reply": "2022-08-15T12:36:56.695687Z"
    },
    "papermill": {
     "duration": 0.017338,
     "end_time": "2022-08-15T12:36:56.699699",
     "exception": false,
     "start_time": "2022-08-15T12:36:56.682361",
     "status": "completed"
    },
    "tags": []
   },
   "outputs": [],
   "source": [
    "g25.columns = g25.columns.str.replace(\" \", \"_\")\n",
    "g25.rename(columns={\"Strength_(N/mm2)_____________(7_days_avg.)\":\"7_day_str\",\n",
    "                    \"Strength_(N/mm2)_____________(28_days_avg.)\":\"28_day_str\"}, inplace = True)"
   ]
  },
  {
   "cell_type": "code",
   "execution_count": 5,
   "id": "60da17da",
   "metadata": {
    "execution": {
     "iopub.execute_input": "2022-08-15T12:36:56.711902Z",
     "iopub.status.busy": "2022-08-15T12:36:56.711498Z",
     "iopub.status.idle": "2022-08-15T12:36:56.725596Z",
     "shell.execute_reply": "2022-08-15T12:36:56.724196Z"
    },
    "papermill": {
     "duration": 0.023296,
     "end_time": "2022-08-15T12:36:56.728128",
     "exception": false,
     "start_time": "2022-08-15T12:36:56.704832",
     "status": "completed"
    },
    "tags": []
   },
   "outputs": [
    {
     "data": {
      "text/plain": [
       "Unnamed:_0                                       0\n",
       "Type_of_course_Aggregate                         0\n",
       "Type_of_Fine_Aggregate_                          0\n",
       "Max._Size_of_Coarse_Aggregate_(mm)               0\n",
       "Passing_0.6_mm_Sieve_(%)                         0\n",
       "Target_Mean_Strength_(N/mm2)                     0\n",
       "Cement_O.P.C_(Kg/m3)                             0\n",
       "W/C_Ratio                                        0\n",
       "Water_Content_(Kg/m3)                            0\n",
       "Additive_Type_&_Dosage_(/100_kg_of_cement)       0\n",
       "Total_Aggregate_(Kg/m3)                          0\n",
       "Fine_Aggregate_(Kg/m3)                           0\n",
       "Coarse_Aggregate_(Kg/m3)                         0\n",
       "Workability_Slump_(mm)                           0\n",
       "Hardened_Concrete_Desnity_(avg.)                 0\n",
       "7_day_str                                        0\n",
       "28_day_str                                       0\n",
       "Type_of_Coarse_Aggregate                         0\n",
       "Type_of_Fine_Aggregate                           0\n",
       "Passing_0.6mm_Sieve(%)                           0\n",
       "Additive_Type_&_Dos._(/100_Kg_of_cement)         0\n",
       "Admix_type                                    1258\n",
       "Admix_dosage                                  1490\n",
       "dtype: int64"
      ]
     },
     "execution_count": 5,
     "metadata": {},
     "output_type": "execute_result"
    }
   ],
   "source": [
    "g25.isnull().sum()"
   ]
  },
  {
   "cell_type": "markdown",
   "id": "4c606ee6",
   "metadata": {
    "papermill": {
     "duration": 0.005266,
     "end_time": "2022-08-15T12:36:56.738731",
     "exception": false,
     "start_time": "2022-08-15T12:36:56.733465",
     "status": "completed"
    },
    "tags": []
   },
   "source": [
    "Let's isolate really high early age (7 day) strength values."
   ]
  },
  {
   "cell_type": "code",
   "execution_count": 6,
   "id": "808bdc42",
   "metadata": {
    "execution": {
     "iopub.execute_input": "2022-08-15T12:36:56.750921Z",
     "iopub.status.busy": "2022-08-15T12:36:56.750499Z",
     "iopub.status.idle": "2022-08-15T12:36:56.789873Z",
     "shell.execute_reply": "2022-08-15T12:36:56.788620Z"
    },
    "papermill": {
     "duration": 0.048747,
     "end_time": "2022-08-15T12:36:56.792581",
     "exception": false,
     "start_time": "2022-08-15T12:36:56.743834",
     "status": "completed"
    },
    "tags": []
   },
   "outputs": [
    {
     "data": {
      "text/html": [
       "<div>\n",
       "<style scoped>\n",
       "    .dataframe tbody tr th:only-of-type {\n",
       "        vertical-align: middle;\n",
       "    }\n",
       "\n",
       "    .dataframe tbody tr th {\n",
       "        vertical-align: top;\n",
       "    }\n",
       "\n",
       "    .dataframe thead th {\n",
       "        text-align: right;\n",
       "    }\n",
       "</style>\n",
       "<table border=\"1\" class=\"dataframe\">\n",
       "  <thead>\n",
       "    <tr style=\"text-align: right;\">\n",
       "      <th></th>\n",
       "      <th>Unnamed:_0</th>\n",
       "      <th>Type_of_course_Aggregate</th>\n",
       "      <th>Type_of_Fine_Aggregate_</th>\n",
       "      <th>Max._Size_of_Coarse_Aggregate_(mm)</th>\n",
       "      <th>Passing_0.6_mm_Sieve_(%)</th>\n",
       "      <th>Target_Mean_Strength_(N/mm2)</th>\n",
       "      <th>Cement_O.P.C_(Kg/m3)</th>\n",
       "      <th>W/C_Ratio</th>\n",
       "      <th>Water_Content_(Kg/m3)</th>\n",
       "      <th>Additive_Type_&amp;_Dosage_(/100_kg_of_cement)</th>\n",
       "      <th>...</th>\n",
       "      <th>Workability_Slump_(mm)</th>\n",
       "      <th>Hardened_Concrete_Desnity_(avg.)</th>\n",
       "      <th>7_day_str</th>\n",
       "      <th>28_day_str</th>\n",
       "      <th>Type_of_Coarse_Aggregate</th>\n",
       "      <th>Type_of_Fine_Aggregate</th>\n",
       "      <th>Passing_0.6mm_Sieve(%)</th>\n",
       "      <th>Additive_Type_&amp;_Dos._(/100_Kg_of_cement)</th>\n",
       "      <th>Admix_type</th>\n",
       "      <th>Admix_dosage</th>\n",
       "    </tr>\n",
       "  </thead>\n",
       "  <tbody>\n",
       "    <tr>\n",
       "      <th>8</th>\n",
       "      <td>8</td>\n",
       "      <td>Crushed</td>\n",
       "      <td>Natural</td>\n",
       "      <td>20</td>\n",
       "      <td>33.4</td>\n",
       "      <td>38</td>\n",
       "      <td>370.0</td>\n",
       "      <td>0.50</td>\n",
       "      <td>185.0</td>\n",
       "      <td>consplat RP 364 *dos .8</td>\n",
       "      <td>...</td>\n",
       "      <td>125.0</td>\n",
       "      <td>2449.0</td>\n",
       "      <td>37.8</td>\n",
       "      <td>46.4</td>\n",
       "      <td>0</td>\n",
       "      <td>0</td>\n",
       "      <td>0.0</td>\n",
       "      <td>0</td>\n",
       "      <td>NaN</td>\n",
       "      <td>NaN</td>\n",
       "    </tr>\n",
       "    <tr>\n",
       "      <th>15</th>\n",
       "      <td>15</td>\n",
       "      <td>Crushed</td>\n",
       "      <td>Natural</td>\n",
       "      <td>20</td>\n",
       "      <td>47.0</td>\n",
       "      <td>38</td>\n",
       "      <td>340.0</td>\n",
       "      <td>0.53</td>\n",
       "      <td>180.0</td>\n",
       "      <td>type dos 1 lit</td>\n",
       "      <td>...</td>\n",
       "      <td>120.0</td>\n",
       "      <td>2449.0</td>\n",
       "      <td>36.5</td>\n",
       "      <td>0.0</td>\n",
       "      <td>0</td>\n",
       "      <td>0</td>\n",
       "      <td>0.0</td>\n",
       "      <td>0</td>\n",
       "      <td>NaN</td>\n",
       "      <td>NaN</td>\n",
       "    </tr>\n",
       "    <tr>\n",
       "      <th>16</th>\n",
       "      <td>16</td>\n",
       "      <td>Crushed</td>\n",
       "      <td>Natural</td>\n",
       "      <td>20</td>\n",
       "      <td>47.0</td>\n",
       "      <td>38</td>\n",
       "      <td>340.0</td>\n",
       "      <td>0.53</td>\n",
       "      <td>180.0</td>\n",
       "      <td>type dos 1 lit</td>\n",
       "      <td>...</td>\n",
       "      <td>120.0</td>\n",
       "      <td>2449.0</td>\n",
       "      <td>36.5</td>\n",
       "      <td>34.8</td>\n",
       "      <td>0</td>\n",
       "      <td>0</td>\n",
       "      <td>0.0</td>\n",
       "      <td>0</td>\n",
       "      <td>NaN</td>\n",
       "      <td>NaN</td>\n",
       "    </tr>\n",
       "    <tr>\n",
       "      <th>29</th>\n",
       "      <td>29</td>\n",
       "      <td>Crushed</td>\n",
       "      <td>Natural</td>\n",
       "      <td>20</td>\n",
       "      <td>40.0</td>\n",
       "      <td>38</td>\n",
       "      <td>400.0</td>\n",
       "      <td>0.45</td>\n",
       "      <td>180.0</td>\n",
       "      <td>R2004 dos 1.65 lit</td>\n",
       "      <td>...</td>\n",
       "      <td>200.0</td>\n",
       "      <td>2445.0</td>\n",
       "      <td>36.3</td>\n",
       "      <td>0.0</td>\n",
       "      <td>0</td>\n",
       "      <td>0</td>\n",
       "      <td>0.0</td>\n",
       "      <td>0</td>\n",
       "      <td>NaN</td>\n",
       "      <td>NaN</td>\n",
       "    </tr>\n",
       "    <tr>\n",
       "      <th>30</th>\n",
       "      <td>30</td>\n",
       "      <td>Crushed</td>\n",
       "      <td>Natural</td>\n",
       "      <td>20</td>\n",
       "      <td>40.0</td>\n",
       "      <td>38</td>\n",
       "      <td>400.0</td>\n",
       "      <td>0.45</td>\n",
       "      <td>180.0</td>\n",
       "      <td>R2004 dos 1.65 lit</td>\n",
       "      <td>...</td>\n",
       "      <td>200.0</td>\n",
       "      <td>2450.0</td>\n",
       "      <td>36.3</td>\n",
       "      <td>46.6</td>\n",
       "      <td>0</td>\n",
       "      <td>0</td>\n",
       "      <td>0.0</td>\n",
       "      <td>0</td>\n",
       "      <td>NaN</td>\n",
       "      <td>NaN</td>\n",
       "    </tr>\n",
       "  </tbody>\n",
       "</table>\n",
       "<p>5 rows × 23 columns</p>\n",
       "</div>"
      ],
      "text/plain": [
       "    Unnamed:_0 Type_of_course_Aggregate Type_of_Fine_Aggregate_  \\\n",
       "8            8                  Crushed                 Natural   \n",
       "15          15                  Crushed                 Natural   \n",
       "16          16                  Crushed                 Natural   \n",
       "29          29                  Crushed                 Natural   \n",
       "30          30                  Crushed                 Natural   \n",
       "\n",
       "   Max._Size_of_Coarse_Aggregate_(mm)  Passing_0.6_mm_Sieve_(%)  \\\n",
       "8                                  20                      33.4   \n",
       "15                                 20                      47.0   \n",
       "16                                 20                      47.0   \n",
       "29                                 20                      40.0   \n",
       "30                                 20                      40.0   \n",
       "\n",
       "   Target_Mean_Strength_(N/mm2)  Cement_O.P.C_(Kg/m3)  W/C_Ratio  \\\n",
       "8                            38                 370.0       0.50   \n",
       "15                           38                 340.0       0.53   \n",
       "16                           38                 340.0       0.53   \n",
       "29                           38                 400.0       0.45   \n",
       "30                           38                 400.0       0.45   \n",
       "\n",
       "    Water_Content_(Kg/m3) Additive_Type_&_Dosage_(/100_kg_of_cement)  ...  \\\n",
       "8                   185.0                    consplat RP 364 *dos .8  ...   \n",
       "15                  180.0                             type dos 1 lit  ...   \n",
       "16                  180.0                             type dos 1 lit  ...   \n",
       "29                  180.0                         R2004 dos 1.65 lit  ...   \n",
       "30                  180.0                         R2004 dos 1.65 lit  ...   \n",
       "\n",
       "    Workability_Slump_(mm)  Hardened_Concrete_Desnity_(avg.)  7_day_str  \\\n",
       "8                    125.0                            2449.0       37.8   \n",
       "15                   120.0                            2449.0       36.5   \n",
       "16                   120.0                            2449.0       36.5   \n",
       "29                   200.0                            2445.0       36.3   \n",
       "30                   200.0                            2450.0       36.3   \n",
       "\n",
       "    28_day_str  Type_of_Coarse_Aggregate  Type_of_Fine_Aggregate  \\\n",
       "8         46.4                         0                       0   \n",
       "15         0.0                         0                       0   \n",
       "16        34.8                         0                       0   \n",
       "29         0.0                         0                       0   \n",
       "30        46.6                         0                       0   \n",
       "\n",
       "    Passing_0.6mm_Sieve(%) Additive_Type_&_Dos._(/100_Kg_of_cement)  \\\n",
       "8                      0.0                                        0   \n",
       "15                     0.0                                        0   \n",
       "16                     0.0                                        0   \n",
       "29                     0.0                                        0   \n",
       "30                     0.0                                        0   \n",
       "\n",
       "   Admix_type  Admix_dosage  \n",
       "8         NaN           NaN  \n",
       "15        NaN           NaN  \n",
       "16        NaN           NaN  \n",
       "29        NaN           NaN  \n",
       "30        NaN           NaN  \n",
       "\n",
       "[5 rows x 23 columns]"
      ]
     },
     "execution_count": 6,
     "metadata": {},
     "output_type": "execute_result"
    }
   ],
   "source": [
    "g25_35mpa = g25[g25[\"7_day_str\"] > 35]\n",
    "g25_35mpa.head()"
   ]
  },
  {
   "cell_type": "markdown",
   "id": "365bc601",
   "metadata": {
    "papermill": {
     "duration": 0.00752,
     "end_time": "2022-08-15T12:36:56.806403",
     "exception": false,
     "start_time": "2022-08-15T12:36:56.798883",
     "status": "completed"
    },
    "tags": []
   },
   "source": [
    "The water to cement ratio is the key factor which determines strength. It is also directly correlated (in field practice) with the workability - or slump.\n",
    "\n",
    "The higher the W/C ratio, the higher the slump, the weaker the strength. "
   ]
  },
  {
   "cell_type": "code",
   "execution_count": 7,
   "id": "e6b0aaed",
   "metadata": {
    "execution": {
     "iopub.execute_input": "2022-08-15T12:36:56.821393Z",
     "iopub.status.busy": "2022-08-15T12:36:56.820923Z",
     "iopub.status.idle": "2022-08-15T12:36:57.157802Z",
     "shell.execute_reply": "2022-08-15T12:36:57.156570Z"
    },
    "papermill": {
     "duration": 0.347921,
     "end_time": "2022-08-15T12:36:57.160447",
     "exception": false,
     "start_time": "2022-08-15T12:36:56.812526",
     "status": "completed"
    },
    "tags": []
   },
   "outputs": [
    {
     "data": {
      "image/png": "[encoded data removed]",
      "text/plain": [
       "<Figure size 432x288 with 2 Axes>"
      ]
     },
     "metadata": {
      "needs_background": "light"
     },
     "output_type": "display_data"
    }
   ],
   "source": [
    "import matplotlib.pyplot as plt\n",
    "x = g25_35mpa[\"W/C_Ratio\"]\n",
    "y = g25_35mpa[\"7_day_str\"]\n",
    "\n",
    "fig,ax = plt.subplots()\n",
    "# make a plot\n",
    "ax.scatter(x, y,\n",
    "        color=\"red\", \n",
    "        marker=\"o\")\n",
    "# set x-axis label\n",
    "ax.set_xlabel(\"w/c ratio\", fontsize = 14)\n",
    "# set y-axis label\n",
    "ax.set_ylabel(\"7_day_Str\",\n",
    "              color=\"red\",\n",
    "              fontsize=14)\n",
    "\n",
    "ax2=ax.twinx()\n",
    "# make a plot with different y-axis using second axis object\n",
    "ax2.scatter(x, g25_35mpa[\"Workability_Slump_(mm)\"],color=\"blue\",marker=\"o\")\n",
    "ax2.set_ylabel(\"Slump (mm)\",color=\"blue\",fontsize=14)\n",
    "plt.xlim(0.38, 0.58)\n",
    "#plt.ylim(0, 160)\n",
    "plt.show()"
   ]
  },
  {
   "cell_type": "markdown",
   "id": "503f9082",
   "metadata": {
    "papermill": {
     "duration": 0.005491,
     "end_time": "2022-08-15T12:36:57.171960",
     "exception": false,
     "start_time": "2022-08-15T12:36:57.166469",
     "status": "completed"
    },
    "tags": []
   },
   "source": [
    "Let's quickly check the distribution of the 7 day values. "
   ]
  },
  {
   "cell_type": "code",
   "execution_count": 8,
   "id": "0b7e145a",
   "metadata": {
    "execution": {
     "iopub.execute_input": "2022-08-15T12:36:57.185465Z",
     "iopub.status.busy": "2022-08-15T12:36:57.185056Z",
     "iopub.status.idle": "2022-08-15T12:36:57.339223Z",
     "shell.execute_reply": "2022-08-15T12:36:57.338189Z"
    },
    "papermill": {
     "duration": 0.164184,
     "end_time": "2022-08-15T12:36:57.341932",
     "exception": false,
     "start_time": "2022-08-15T12:36:57.177748",
     "status": "completed"
    },
    "tags": []
   },
   "outputs": [
    {
     "data": {
      "text/plain": [
       "(array([139., 123.,  96.,  63.,  35.,  24.,  28.,   0.,   6.,  11.]),\n",
       " array([35.1 , 36.18, 37.26, 38.34, 39.42, 40.5 , 41.58, 42.66, 43.74,\n",
       "        44.82, 45.9 ]),\n",
       " <BarContainer object of 10 artists>)"
      ]
     },
     "execution_count": 8,
     "metadata": {},
     "output_type": "execute_result"
    },
    {
     "data": {
      "image/png": "[encoded data removed]",
      "text/plain": [
       "<Figure size 432x288 with 1 Axes>"
      ]
     },
     "metadata": {
      "needs_background": "light"
     },
     "output_type": "display_data"
    }
   ],
   "source": [
    "plt.hist(y)"
   ]
  },
  {
   "cell_type": "markdown",
   "id": "b588f938",
   "metadata": {
    "papermill": {
     "duration": 0.005988,
     "end_time": "2022-08-15T12:36:57.354059",
     "exception": false,
     "start_time": "2022-08-15T12:36:57.348071",
     "status": "completed"
    },
    "tags": []
   },
   "source": [
    "There are few examples of 40+Mpa values. Let's check what admixtures have been used to achieve this performance."
   ]
  },
  {
   "cell_type": "code",
   "execution_count": 9,
   "id": "1fcb9193",
   "metadata": {
    "execution": {
     "iopub.execute_input": "2022-08-15T12:36:57.368186Z",
     "iopub.status.busy": "2022-08-15T12:36:57.367750Z",
     "iopub.status.idle": "2022-08-15T12:36:57.391706Z",
     "shell.execute_reply": "2022-08-15T12:36:57.390845Z"
    },
    "papermill": {
     "duration": 0.033816,
     "end_time": "2022-08-15T12:36:57.394020",
     "exception": false,
     "start_time": "2022-08-15T12:36:57.360204",
     "status": "completed"
    },
    "tags": []
   },
   "outputs": [
    {
     "data": {
      "text/html": [
       "<div>\n",
       "<style scoped>\n",
       "    .dataframe tbody tr th:only-of-type {\n",
       "        vertical-align: middle;\n",
       "    }\n",
       "\n",
       "    .dataframe tbody tr th {\n",
       "        vertical-align: top;\n",
       "    }\n",
       "\n",
       "    .dataframe thead th {\n",
       "        text-align: right;\n",
       "    }\n",
       "</style>\n",
       "<table border=\"1\" class=\"dataframe\">\n",
       "  <thead>\n",
       "    <tr style=\"text-align: right;\">\n",
       "      <th></th>\n",
       "      <th>7_day_str</th>\n",
       "      <th>Additive_Type_&amp;_Dos._(/100_Kg_of_cement)</th>\n",
       "      <th>W/C_Ratio</th>\n",
       "      <th>Cement_O.P.C_(Kg/m3)</th>\n",
       "    </tr>\n",
       "  </thead>\n",
       "  <tbody>\n",
       "    <tr>\n",
       "      <th>1457</th>\n",
       "      <td>42.1</td>\n",
       "      <td>Type SP901 Dos. 1.0 lit</td>\n",
       "      <td>0.47</td>\n",
       "      <td>350.0</td>\n",
       "    </tr>\n",
       "    <tr>\n",
       "      <th>2187</th>\n",
       "      <td>42.1</td>\n",
       "      <td>Type SP901 Dos. 1.0 lit</td>\n",
       "      <td>0.47</td>\n",
       "      <td>350.0</td>\n",
       "    </tr>\n",
       "    <tr>\n",
       "      <th>1458</th>\n",
       "      <td>42.1</td>\n",
       "      <td>Type SP901 Dos. 1.0 lit</td>\n",
       "      <td>0.47</td>\n",
       "      <td>350.0</td>\n",
       "    </tr>\n",
       "    <tr>\n",
       "      <th>1790</th>\n",
       "      <td>42.1</td>\n",
       "      <td>Type SP901 Dos. 1.0 lit</td>\n",
       "      <td>0.47</td>\n",
       "      <td>350.0</td>\n",
       "    </tr>\n",
       "    <tr>\n",
       "      <th>1792</th>\n",
       "      <td>42.1</td>\n",
       "      <td>Type SP901 Dos. 1.0 lit</td>\n",
       "      <td>0.47</td>\n",
       "      <td>350.0</td>\n",
       "    </tr>\n",
       "    <tr>\n",
       "      <th>2182</th>\n",
       "      <td>42.1</td>\n",
       "      <td>Type SP901 Dos. 1.0 lit</td>\n",
       "      <td>0.47</td>\n",
       "      <td>350.0</td>\n",
       "    </tr>\n",
       "    <tr>\n",
       "      <th>1623</th>\n",
       "      <td>42.3</td>\n",
       "      <td>Type Euro Plast 8600 * Dos 1 lit</td>\n",
       "      <td>0.50</td>\n",
       "      <td>360.0</td>\n",
       "    </tr>\n",
       "    <tr>\n",
       "      <th>2050</th>\n",
       "      <td>42.3</td>\n",
       "      <td>Type Euro Plast 8600 * Dos 1 lit</td>\n",
       "      <td>0.50</td>\n",
       "      <td>360.0</td>\n",
       "    </tr>\n",
       "    <tr>\n",
       "      <th>1112</th>\n",
       "      <td>42.3</td>\n",
       "      <td>Type Euro Plast 8600 * Dos. 1.0 lit</td>\n",
       "      <td>0.50</td>\n",
       "      <td>360.0</td>\n",
       "    </tr>\n",
       "    <tr>\n",
       "      <th>1113</th>\n",
       "      <td>42.3</td>\n",
       "      <td>Type Euro Plast 8600 * Dos 1 lit</td>\n",
       "      <td>0.50</td>\n",
       "      <td>360.0</td>\n",
       "    </tr>\n",
       "    <tr>\n",
       "      <th>1617</th>\n",
       "      <td>42.3</td>\n",
       "      <td>Type Euro Plast 8600 * Dos. 1.0 lit</td>\n",
       "      <td>0.50</td>\n",
       "      <td>360.0</td>\n",
       "    </tr>\n",
       "    <tr>\n",
       "      <th>2044</th>\n",
       "      <td>42.3</td>\n",
       "      <td>Type Euro Plast 8600 * Dos. 1.0 lit</td>\n",
       "      <td>0.50</td>\n",
       "      <td>360.0</td>\n",
       "    </tr>\n",
       "    <tr>\n",
       "      <th>1969</th>\n",
       "      <td>42.6</td>\n",
       "      <td>R2004 * Dos 1.65 lit</td>\n",
       "      <td>0.44</td>\n",
       "      <td>410.0</td>\n",
       "    </tr>\n",
       "    <tr>\n",
       "      <th>1970</th>\n",
       "      <td>42.6</td>\n",
       "      <td>R2004 * Dos 1.65 lit</td>\n",
       "      <td>0.44</td>\n",
       "      <td>410.0</td>\n",
       "    </tr>\n",
       "    <tr>\n",
       "      <th>1566</th>\n",
       "      <td>42.6</td>\n",
       "      <td>R2004 * Dos 1.65 lit</td>\n",
       "      <td>0.44</td>\n",
       "      <td>410.0</td>\n",
       "    </tr>\n",
       "    <tr>\n",
       "      <th>1565</th>\n",
       "      <td>42.6</td>\n",
       "      <td>R2004 * Dos 1.65 lit</td>\n",
       "      <td>0.44</td>\n",
       "      <td>410.0</td>\n",
       "    </tr>\n",
       "    <tr>\n",
       "      <th>1089</th>\n",
       "      <td>42.6</td>\n",
       "      <td>R2004 * Dos 1.65 lit</td>\n",
       "      <td>0.44</td>\n",
       "      <td>410.0</td>\n",
       "    </tr>\n",
       "    <tr>\n",
       "      <th>1090</th>\n",
       "      <td>42.6</td>\n",
       "      <td>R2004 * Dos 1.65 lit</td>\n",
       "      <td>0.44</td>\n",
       "      <td>410.0</td>\n",
       "    </tr>\n",
       "    <tr>\n",
       "      <th>2083</th>\n",
       "      <td>44.2</td>\n",
       "      <td>Type Dos 1.4</td>\n",
       "      <td>0.48</td>\n",
       "      <td>375.0</td>\n",
       "    </tr>\n",
       "    <tr>\n",
       "      <th>1351</th>\n",
       "      <td>44.2</td>\n",
       "      <td>Type Dos 1.4</td>\n",
       "      <td>0.48</td>\n",
       "      <td>375.0</td>\n",
       "    </tr>\n",
       "    <tr>\n",
       "      <th>1640</th>\n",
       "      <td>44.2</td>\n",
       "      <td>Type * Dos. 1.4 lit</td>\n",
       "      <td>0.48</td>\n",
       "      <td>375.0</td>\n",
       "    </tr>\n",
       "    <tr>\n",
       "      <th>1650</th>\n",
       "      <td>44.2</td>\n",
       "      <td>Type Dos 1.4</td>\n",
       "      <td>0.48</td>\n",
       "      <td>375.0</td>\n",
       "    </tr>\n",
       "    <tr>\n",
       "      <th>1350</th>\n",
       "      <td>44.2</td>\n",
       "      <td>Type * Dos. 1.4 lit</td>\n",
       "      <td>0.48</td>\n",
       "      <td>375.0</td>\n",
       "    </tr>\n",
       "    <tr>\n",
       "      <th>2073</th>\n",
       "      <td>44.2</td>\n",
       "      <td>Type * Dos. 1.4 lit</td>\n",
       "      <td>0.48</td>\n",
       "      <td>375.0</td>\n",
       "    </tr>\n",
       "    <tr>\n",
       "      <th>187</th>\n",
       "      <td>45.8</td>\n",
       "      <td>0</td>\n",
       "      <td>0.45</td>\n",
       "      <td>375.0</td>\n",
       "    </tr>\n",
       "    <tr>\n",
       "      <th>611</th>\n",
       "      <td>45.8</td>\n",
       "      <td>0</td>\n",
       "      <td>0.45</td>\n",
       "      <td>375.0</td>\n",
       "    </tr>\n",
       "    <tr>\n",
       "      <th>1637</th>\n",
       "      <td>45.9</td>\n",
       "      <td>Type Euro Plast 8600 * Dos. 1.25 lit</td>\n",
       "      <td>0.49</td>\n",
       "      <td>375.0</td>\n",
       "    </tr>\n",
       "    <tr>\n",
       "      <th>2043</th>\n",
       "      <td>45.9</td>\n",
       "      <td>Type Euro plast 8600 * Dos. 1.25 lit</td>\n",
       "      <td>0.49</td>\n",
       "      <td>375.0</td>\n",
       "    </tr>\n",
       "    <tr>\n",
       "      <th>1616</th>\n",
       "      <td>45.9</td>\n",
       "      <td>Type Euro plast 8600 * Dos. 1.25 lit</td>\n",
       "      <td>0.49</td>\n",
       "      <td>375.0</td>\n",
       "    </tr>\n",
       "    <tr>\n",
       "      <th>1111</th>\n",
       "      <td>45.9</td>\n",
       "      <td>Type Euro Plast 8600 * Dos. 1.25 lit</td>\n",
       "      <td>0.49</td>\n",
       "      <td>375.0</td>\n",
       "    </tr>\n",
       "    <tr>\n",
       "      <th>2069</th>\n",
       "      <td>45.9</td>\n",
       "      <td>Type Euro Plast 8600 * Dos. 1.25 lit</td>\n",
       "      <td>0.49</td>\n",
       "      <td>375.0</td>\n",
       "    </tr>\n",
       "    <tr>\n",
       "      <th>1110</th>\n",
       "      <td>45.9</td>\n",
       "      <td>Type Euro plast 8600 * Dos. 1.25 lit</td>\n",
       "      <td>0.49</td>\n",
       "      <td>375.0</td>\n",
       "    </tr>\n",
       "    <tr>\n",
       "      <th>983</th>\n",
       "      <td>45.9</td>\n",
       "      <td>Type SP 432 * Dos. 1.0 lit</td>\n",
       "      <td>0.51</td>\n",
       "      <td>375.0</td>\n",
       "    </tr>\n",
       "    <tr>\n",
       "      <th>1770</th>\n",
       "      <td>45.9</td>\n",
       "      <td>Type SP 432 * Dos. 1.0 lit</td>\n",
       "      <td>0.51</td>\n",
       "      <td>375.0</td>\n",
       "    </tr>\n",
       "    <tr>\n",
       "      <th>2241</th>\n",
       "      <td>45.9</td>\n",
       "      <td>Type SP 432 * Dos. 1.0 lit</td>\n",
       "      <td>0.51</td>\n",
       "      <td>375.0</td>\n",
       "    </tr>\n",
       "  </tbody>\n",
       "</table>\n",
       "</div>"
      ],
      "text/plain": [
       "      7_day_str Additive_Type_&_Dos._(/100_Kg_of_cement)  W/C_Ratio  \\\n",
       "1457       42.1                  Type SP901 Dos. 1.0 lit       0.47   \n",
       "2187       42.1                  Type SP901 Dos. 1.0 lit       0.47   \n",
       "1458       42.1                  Type SP901 Dos. 1.0 lit       0.47   \n",
       "1790       42.1                  Type SP901 Dos. 1.0 lit       0.47   \n",
       "1792       42.1                  Type SP901 Dos. 1.0 lit       0.47   \n",
       "2182       42.1                  Type SP901 Dos. 1.0 lit       0.47   \n",
       "1623       42.3         Type Euro Plast 8600 * Dos 1 lit       0.50   \n",
       "2050       42.3         Type Euro Plast 8600 * Dos 1 lit       0.50   \n",
       "1112       42.3      Type Euro Plast 8600 * Dos. 1.0 lit       0.50   \n",
       "1113       42.3         Type Euro Plast 8600 * Dos 1 lit       0.50   \n",
       "1617       42.3      Type Euro Plast 8600 * Dos. 1.0 lit       0.50   \n",
       "2044       42.3      Type Euro Plast 8600 * Dos. 1.0 lit       0.50   \n",
       "1969       42.6                     R2004 * Dos 1.65 lit       0.44   \n",
       "1970       42.6                     R2004 * Dos 1.65 lit       0.44   \n",
       "1566       42.6                     R2004 * Dos 1.65 lit       0.44   \n",
       "1565       42.6                     R2004 * Dos 1.65 lit       0.44   \n",
       "1089       42.6                     R2004 * Dos 1.65 lit       0.44   \n",
       "1090       42.6                     R2004 * Dos 1.65 lit       0.44   \n",
       "2083       44.2                             Type Dos 1.4       0.48   \n",
       "1351       44.2                             Type Dos 1.4       0.48   \n",
       "1640       44.2                      Type * Dos. 1.4 lit       0.48   \n",
       "1650       44.2                             Type Dos 1.4       0.48   \n",
       "1350       44.2                      Type * Dos. 1.4 lit       0.48   \n",
       "2073       44.2                      Type * Dos. 1.4 lit       0.48   \n",
       "187        45.8                                        0       0.45   \n",
       "611        45.8                                        0       0.45   \n",
       "1637       45.9     Type Euro Plast 8600 * Dos. 1.25 lit       0.49   \n",
       "2043       45.9     Type Euro plast 8600 * Dos. 1.25 lit       0.49   \n",
       "1616       45.9     Type Euro plast 8600 * Dos. 1.25 lit       0.49   \n",
       "1111       45.9     Type Euro Plast 8600 * Dos. 1.25 lit       0.49   \n",
       "2069       45.9     Type Euro Plast 8600 * Dos. 1.25 lit       0.49   \n",
       "1110       45.9     Type Euro plast 8600 * Dos. 1.25 lit       0.49   \n",
       "983        45.9               Type SP 432 * Dos. 1.0 lit       0.51   \n",
       "1770       45.9               Type SP 432 * Dos. 1.0 lit       0.51   \n",
       "2241       45.9               Type SP 432 * Dos. 1.0 lit       0.51   \n",
       "\n",
       "      Cement_O.P.C_(Kg/m3)  \n",
       "1457                 350.0  \n",
       "2187                 350.0  \n",
       "1458                 350.0  \n",
       "1790                 350.0  \n",
       "1792                 350.0  \n",
       "2182                 350.0  \n",
       "1623                 360.0  \n",
       "2050                 360.0  \n",
       "1112                 360.0  \n",
       "1113                 360.0  \n",
       "1617                 360.0  \n",
       "2044                 360.0  \n",
       "1969                 410.0  \n",
       "1970                 410.0  \n",
       "1566                 410.0  \n",
       "1565                 410.0  \n",
       "1089                 410.0  \n",
       "1090                 410.0  \n",
       "2083                 375.0  \n",
       "1351                 375.0  \n",
       "1640                 375.0  \n",
       "1650                 375.0  \n",
       "1350                 375.0  \n",
       "2073                 375.0  \n",
       "187                  375.0  \n",
       "611                  375.0  \n",
       "1637                 375.0  \n",
       "2043                 375.0  \n",
       "1616                 375.0  \n",
       "1111                 375.0  \n",
       "2069                 375.0  \n",
       "1110                 375.0  \n",
       "983                  375.0  \n",
       "1770                 375.0  \n",
       "2241                 375.0  "
      ]
     },
     "execution_count": 9,
     "metadata": {},
     "output_type": "execute_result"
    }
   ],
   "source": [
    "g25_42mpa = g25[g25[\"7_day_str\"] > 42]\n",
    "g25_42mpa[[\"7_day_str\", \n",
    "           \"Additive_Type_&_Dos._(/100_Kg_of_cement)\",\n",
    "           \"W/C_Ratio\", \n",
    "           \"Cement_O.P.C_(Kg/m3)\"]].sort_values(by=\"7_day_str\")"
   ]
  },
  {
   "cell_type": "code",
   "execution_count": 10,
   "id": "77698eb2",
   "metadata": {
    "execution": {
     "iopub.execute_input": "2022-08-15T12:36:57.409269Z",
     "iopub.status.busy": "2022-08-15T12:36:57.408811Z",
     "iopub.status.idle": "2022-08-15T12:36:57.418779Z",
     "shell.execute_reply": "2022-08-15T12:36:57.417597Z"
    },
    "papermill": {
     "duration": 0.020574,
     "end_time": "2022-08-15T12:36:57.421388",
     "exception": false,
     "start_time": "2022-08-15T12:36:57.400814",
     "status": "completed"
    },
    "tags": []
   },
   "outputs": [
    {
     "data": {
      "text/plain": [
       "array(['0', 'Type JY-4 pump Aiding * Dos 1.25l lit',\n",
       "       'Type SP901 * Dos 1.0 lit', 'Type CF555 * Dos. 1.0 lit',\n",
       "       'Type SP901 * Dos. 1.0 lit', 'Type SP 432 * Dos. 1.0 lit',\n",
       "       'Type SP432 * Dos. 1.0 lit', 'Type TSEN934* Dos 1.0lit',\n",
       "       'Type Rehobuild 850 * Dos. 0.75 lit', 'Type CF555 * Dos. 0.75 lit',\n",
       "       'Type JY- 4 Pump-Aiding * Dos. 1.25 lit',\n",
       "       'Type SP432 * Dos. 1.25 lit', 'Type SP901 Dos. 1.0 lit',\n",
       "       'Type Kemia Crete 850* Dos 0.75 lit', 'Type SP901 Dos. 3.0 lit/m3',\n",
       "       'Type TSEN934* Dos 0.75lit', 'Type SP901 Dos. 0.75lit',\n",
       "       'Type SP901 Dos. 0.75 lit', 'Type Euro 8600 * Dos. 1.0 lit',\n",
       "       'Type Dos. 2.3 lit', 'Type coplast S-R* Dos.2.3 lit',\n",
       "       ' Type SP901 * Dos. 1.5 lit', 'Type Basf 8800E* Dos 1.0lit',\n",
       "       'SP 432 * Dos. 0.75 lit', 'Type SP 901 * Dos. 1.0 lit',\n",
       "       'Type Sikament R2004 * Dos. 1.0',\n",
       "       'Type Sikament 2004 * Dos. 1.0 lit', 'Type SP 8600* Dos 1.0 lit ',\n",
       "       'Type R2004 * Dos 1.25 lit', 'Type 8600 * Dos. 0.75 lit',\n",
       "       'Reho Build 850 * Dos 1.25 lit', 'Reho Build 850 * Dos. 1.25 lit',\n",
       "       'Type Flocrete EP 8600 * Dos 4.875',\n",
       "       'Type Flocrete EP 8600 * Dos. 4.875',\n",
       "       'Kemflow 2008R dosage 0.9 lit', 'Type SP801 * Dos. 1.2 lit',\n",
       "       'Reheo Build 850 * Dos. 1.0 lit', 'BASF - 850 * Dos 1.0 lit',\n",
       "       'Type Reho Build 850 * Dos. 1.0 lit',\n",
       "       'Type Reho Build 850 * Dos .75 lit', 'R2004 * Dos 1.65 lit',\n",
       "       'Type Prokmen 2008 Dos 1.0 lit', 'Type Prokem 2008 . Dos 1.0 lit',\n",
       "       'Type * Dos 1.25', 'Type Euro 8600 * Dos 1 lit ',\n",
       "       'Type Euro Plast 8600 * Dos. 1.0 lit',\n",
       "       'Type Euro plast 8600 * Dos. 1.25 lit',\n",
       "       'Type Euro Plast 8600 * Dos. 1.25 lit',\n",
       "       'Type Euro Plast 8600 * Dos 1 lit', 'Type SP901 * Dos. 1.25 lit',\n",
       "       'Type SP 901 * Dos. 0.75 lit', 'Type G 150 * Dos 0.75 lit',\n",
       "       'Type Euro 8600* Dos. 1.25', 'Conplast SP 432 1.0 lit',\n",
       "       'Type SP 432 * Dos. 1.25 lit', 'Type SP 432 * Dos. 0.85 lit',\n",
       "       'Reho Build 850 * Dos 1.0 lit', 'Type Euro Blast 8600 * Dos a lit',\n",
       "       'Type Rehobuild * 850 * Dos. 1.0 lit',\n",
       "       'Type Reho Build 850 * Dos 1 lit',\n",
       "       'Type Euro Plast 8600 * Dos. 0.75 lit',\n",
       "       'Type Euro 8600* Dos. .75 lit', 'Type SP 432 * Dos. 1.45 lit',\n",
       "       'Type Conplast 264 0.56 lit and SP 432 0.98 lit',\n",
       "       'Sikament SR.XR * Dos. 0.4 & SP Sikament 163 M 0.9 lit',\n",
       "       'Sikament SR.XR * Dos. 0.4 & SP Sikament 163 M 0.9 lit ',\n",
       "       'SP CHRYSO SD-2 * Dos. 1.0 lit',\n",
       "       'Type G 150 * Dos 1.4 lit & Plastacrete - 1.875',\n",
       "       'Sikament R2004 dosage 1.25 lit', 'Reho Build 850 * Dos. 1.0 lit',\n",
       "       'CONPLAST RB264 *0.7 LIT', 'Subote * Dos 1.0 ', 'Sp 432 0.9 lit',\n",
       "       'Type Reho Build 850 * Dos 1.1 ', 'Cico fluid G150 * Dos 0.75 lit',\n",
       "       'Type Reheobuild 850 * Dos. 1.5 lit',\n",
       "       'Type SD2-Gold * Dos 1.0 lit', 'SP 432 MS 1.0 lit',\n",
       "       'Type Euro blast 8600 * Dos 1 lit', 'Type SP40* Dos 1.0 lit',\n",
       "       'Type Rehobuild * 850 * Dos. 0.75 lit',\n",
       "       'Type * Rho Build 850 * Dos 1.25 lit', 'Type * Dos. 1.0 lit',\n",
       "       'Complast 432 1.5 lit', 'Type SP432 * Dos 1.0 lit',\n",
       "       'Type SP901 Dos. 3.0 lit', 'Rehobuild - 850 * Dos 1.25 lit',\n",
       "       'S.P Type G 1.25 lit', 'S.P Type G * Dos 1.25 lit',\n",
       "       'SP 432 Dos * 0.75 lit', 'Type Reho Build 850 * Dos. 1.25 lit',\n",
       "       'Type JY- 4 PumpAdding *Dos.  1.25% by weight of cement',\n",
       "       'KEMFLOW 2008R dosage 1.0 lit',\n",
       "       'Type * RHEOBUILD 850 * Dos. 1.25 lit', 'Rehobuild 0.75 lit',\n",
       "       'Type * Dos. 1.4 lit', 'Type Dos 1.4', 'Type * Dos. 1.2 lit',\n",
       "       'Type Dos 1.2', 'Type RehoBuild 850 * Dos. 1.25 lit',\n",
       "       'Type TraplastSR/RX * Dos. 1.25 lit',\n",
       "       'Type Reho Build * Dos 1 lit',\n",
       "       'Type: Panatarhit * SYN * Dos. 1.0 lit', 'Type Sp102 Dos 1.0 lit',\n",
       "       'Type Euro Plast 8600', 'Euro Plast 8600 1 lit',\n",
       "       'Type Caplast Super-R  * Dos. 1.4 lit',\n",
       "       'Type Caplast Super-R(P) * Dos 1.4 lit',\n",
       "       'Type Caplast SP-R * Dos. 0.3 lit', 'Type CCI',\n",
       "       'Type SP901 * Dos. 0.75 lit', 'Euro Plast 8600 * Dos. 0.75 lit',\n",
       "       'Reho Build 850 0.75 lit', 'Reho Build 850 Dos * 0.75 lit',\n",
       "       'Type SP901 Dos. 3.75 lit', 'Type SP901 Dos. 3.75 lit/m3',\n",
       "       'ReheoBuild 850 * Dosage 0.8 lit',\n",
       "       'Type * RHEOBUILD 850 * Dos. 0.8 lit',\n",
       "       'Conplast SP 377 * 1.0 lit & RP 264 0.5 lit',\n",
       "       'Complast SP 337 * Dos. 0.8 & Complsat 264 * Dos. 0.5 lit',\n",
       "       'Reho Build 850 * Dos 1 lit', 'Type SP(FDN-5) * Dos. 1.0 lit',\n",
       "       'Type Sp 432 Dos 1 lit', 'Type * Dos. 3.0 lit', 'Type Dos 3',\n",
       "       'Sikament R2002 * 3.0lit',\n",
       "       'Reho Build 850 * Dos 1.0 lit & LCD10 * Dos 0.5 lit',\n",
       "       ' Reho Build 850 .Dos * lit & LD10 * Dos. 0.5lit',\n",
       "       'Type Pentron * Dos 1.0 lit', 'Build 850 * Dos 1 lit',\n",
       "       'Type SP Gold* Dos. 1.0 lit', 'Reho build 850 * Dos. 0.75 lit',\n",
       "       'Type SP-337 * Dos. 1.0 lit',\n",
       "       'Type Fosroc Conplast Wp400  * Dos 1.75 & Sp 8600 Dos .75 lit',\n",
       "       'Type SP(FDN-5) * Dos. 2.5 lit', 'Type Sp(Fdn-5) * Dos 2.5',\n",
       "       'R 2008 * Dos 1.0 & RX * Dos 0.5 lit', 'Rheobuild 850 1.0 lit',\n",
       "       'Type SP Gold* Dos. 3.5 lit', 'Euro PLAST 8600* Dos. 0.75',\n",
       "       'RHEOBUILD * LD80 * 3500 ML/m3', 'RHEOBUILD * LD80 * 3250 ML/m3',\n",
       "       'RHEOBUILD * LD80 * 3000 ML/m3', 'Type Euro 8600* Dos. 1.0 lit',\n",
       "       'Type Rehobuild 850 * Dos. 1.4 lit', 'Type SP * Dos. 1.0 lit',\n",
       "       'Type SP 432 * Dos. 0.75 lit'], dtype=object)"
      ]
     },
     "execution_count": 10,
     "metadata": {},
     "output_type": "execute_result"
    }
   ],
   "source": [
    "g25[\"Additive_Type_&_Dos._(/100_Kg_of_cement)\"].unique()"
   ]
  },
  {
   "cell_type": "code",
   "execution_count": 11,
   "id": "647782d8",
   "metadata": {
    "execution": {
     "iopub.execute_input": "2022-08-15T12:36:57.437076Z",
     "iopub.status.busy": "2022-08-15T12:36:57.436669Z",
     "iopub.status.idle": "2022-08-15T12:36:58.940001Z",
     "shell.execute_reply": "2022-08-15T12:36:58.937756Z"
    },
    "papermill": {
     "duration": 1.515158,
     "end_time": "2022-08-15T12:36:58.943589",
     "exception": false,
     "start_time": "2022-08-15T12:36:57.428431",
     "status": "completed"
    },
    "tags": []
   },
   "outputs": [
    {
     "name": "stdout",
     "output_type": "stream",
     "text": [
      "Mean Absolute Error (Train set): 3.9957045080240308\n",
      "Root Mean Absolute Error (Train set): 5.618241599939254\n"
     ]
    },
    {
     "data": {
      "text/plain": [
       "0.1889976287331938"
      ]
     },
     "execution_count": 11,
     "metadata": {},
     "output_type": "execute_result"
    }
   ],
   "source": [
    "y = g25[\"7_day_str\"]\n",
    "X = g25[[ \n",
    "         \n",
    "        \"Cement_O.P.C_(Kg/m3)\",\n",
    "        \"W/C_Ratio\",\n",
    "        \"Water_Content_(Kg/m3)\",\n",
    "        \"Fine_Aggregate_(Kg/m3)\",\n",
    "         \"Coarse_Aggregate_(Kg/m3)\",\n",
    "         \"Workability_Slump_(mm)\",\n",
    "         \"Hardened_Concrete_Desnity_(avg.)\",\n",
    "         \"Passing_0.6_mm_Sieve_(%)\"\n",
    "        ]]\n",
    "\n",
    "from sklearn.model_selection import train_test_split\n",
    "from sklearn.preprocessing import StandardScaler, MinMaxScaler\n",
    "from sklearn.linear_model import LinearRegression\n",
    "from sklearn import metrics\n",
    "import numpy as np\n",
    "\n",
    "X_train, X_test, y_train, y_test = train_test_split(X, y, train_size=0.65)\n",
    "\n",
    "regressor = LinearRegression()  \n",
    "regressor.fit(X_train, y_train) \n",
    "\n",
    "y_pred = regressor.predict(X_train) \n",
    "print('Mean Absolute Error (Train set):',metrics.mean_absolute_error(y_train, y_pred)) \n",
    "rmse = np.sqrt(np.mean((y_train - y_pred)**2))\n",
    "print('Root Mean Absolute Error (Train set):',rmse)\n",
    "regressor.score(X_train,y_train)"
   ]
  },
  {
   "cell_type": "code",
   "execution_count": 12,
   "id": "2fecf340",
   "metadata": {
    "execution": {
     "iopub.execute_input": "2022-08-15T12:36:58.990500Z",
     "iopub.status.busy": "2022-08-15T12:36:58.989707Z",
     "iopub.status.idle": "2022-08-15T12:36:59.083692Z",
     "shell.execute_reply": "2022-08-15T12:36:59.082094Z"
    },
    "papermill": {
     "duration": 0.121469,
     "end_time": "2022-08-15T12:36:59.086160",
     "exception": false,
     "start_time": "2022-08-15T12:36:58.964691",
     "status": "completed"
    },
    "tags": []
   },
   "outputs": [
    {
     "name": "stdout",
     "output_type": "stream",
     "text": [
      "Mean Absolute Error (Train set): 2.8265622895622893\n",
      "Root Mean Squared Error (Train set): 1.6812383202753527\n"
     ]
    },
    {
     "data": {
      "text/plain": [
       "0.9273760506828475"
      ]
     },
     "execution_count": 12,
     "metadata": {},
     "output_type": "execute_result"
    }
   ],
   "source": [
    "from sklearn.neighbors import KNeighborsRegressor\n",
    "from sklearn.metrics import mean_squared_error\n",
    "from math import sqrt\n",
    "knn_model = KNeighborsRegressor(n_neighbors=2)\n",
    "knn_model.fit(X_train, y_train)\n",
    "train_preds = knn_model.predict(X_train)\n",
    "mse = mean_squared_error(y_train, train_preds)\n",
    "rmse = sqrt(mse)\n",
    "print('Mean Absolute Error (Train set):', mse)\n",
    "print('Root Mean Squared Error (Train set):',rmse)\n",
    "knn_model.score(X_train,y_train)"
   ]
  },
  {
   "cell_type": "code",
   "execution_count": null,
   "id": "f86b48cd",
   "metadata": {
    "papermill": {
     "duration": 0.007049,
     "end_time": "2022-08-15T12:36:59.101000",
     "exception": false,
     "start_time": "2022-08-15T12:36:59.093951",
     "status": "completed"
    },
    "tags": []
   },
   "outputs": [],
   "source": []
  }
 ],
 "metadata": {
  "kernelspec": {
   "display_name": "Python 3",
   "language": "python",
   "name": "python3"
  },
  "language_info": {
   "codemirror_mode": {
    "name": "ipython",
    "version": 3
   },
   "file_extension": ".py",
   "mimetype": "text/x-python",
   "name": "python",
   "nbconvert_exporter": "python",
   "pygments_lexer": "ipython3",
   "version": "3.7.12"
  },
  "papermill": {
   "default_parameters": {},
   "duration": 13.307971,
   "end_time": "2022-08-15T12:36:59.935206",
   "environment_variables": {},
   "exception": null,
   "input_path": "__notebook__.ipynb",
   "output_path": "__notebook__.ipynb",
   "parameters": {},
   "start_time": "2022-08-15T12:36:46.627235",
   "version": "2.3.4"
  }
 },
 "nbformat": 4,
 "nbformat_minor": 5
}
