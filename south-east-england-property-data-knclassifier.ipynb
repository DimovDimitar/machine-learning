{
 "cells": [
  {
   "cell_type": "code",
   "execution_count": 1,
   "id": "b6fa1bd7",
   "metadata": {
    "_cell_guid": "b1076dfc-b9ad-4769-8c92-a6c4dae69d19",
    "_uuid": "8f2839f25d086af736a60e9eeb907d3b93b6e0e5",
    "execution": {
     "iopub.execute_input": "2022-08-09T09:51:10.984652Z",
     "iopub.status.busy": "2022-08-09T09:51:10.984045Z",
     "iopub.status.idle": "2022-08-09T09:51:11.002024Z",
     "shell.execute_reply": "2022-08-09T09:51:11.000969Z"
    },
    "papermill": {
     "duration": 0.029081,
     "end_time": "2022-08-09T09:51:11.004167",
     "exception": false,
     "start_time": "2022-08-09T09:51:10.975086",
     "status": "completed"
    },
    "tags": []
   },
   "outputs": [
    {
     "name": "stdout",
     "output_type": "stream",
     "text": [
      "/kaggle/input/properties-for-sale-in-the-south-east-of-england/Rightmove_South-Eastern_Station_Properties_2022-08-01_13-34-18.csv\n"
     ]
    }
   ],
   "source": [
    "import numpy as np \n",
    "import pandas as pd \n",
    "\n",
    "import os\n",
    "for dirname, _, filenames in os.walk('/kaggle/input'):\n",
    "    for filename in filenames:\n",
    "        print(os.path.join(dirname, filename))"
   ]
  },
  {
   "cell_type": "code",
   "execution_count": 2,
   "id": "558cb98f",
   "metadata": {
    "execution": {
     "iopub.execute_input": "2022-08-09T09:51:11.021667Z",
     "iopub.status.busy": "2022-08-09T09:51:11.020609Z",
     "iopub.status.idle": "2022-08-09T09:51:11.349472Z",
     "shell.execute_reply": "2022-08-09T09:51:11.348580Z"
    },
    "papermill": {
     "duration": 0.339477,
     "end_time": "2022-08-09T09:51:11.351509",
     "exception": false,
     "start_time": "2022-08-09T09:51:11.012032",
     "status": "completed"
    },
    "tags": []
   },
   "outputs": [],
   "source": [
    "data = pd.read_csv(\"/kaggle/input/properties-for-sale-in-the-south-east-of-england/Rightmove_South-Eastern_Station_Properties_2022-08-01_13-34-18.csv\")"
   ]
  },
  {
   "cell_type": "code",
   "execution_count": 3,
   "id": "f38d64cb",
   "metadata": {
    "execution": {
     "iopub.execute_input": "2022-08-09T09:51:11.364819Z",
     "iopub.status.busy": "2022-08-09T09:51:11.364517Z",
     "iopub.status.idle": "2022-08-09T09:51:11.384862Z",
     "shell.execute_reply": "2022-08-09T09:51:11.383942Z"
    },
    "papermill": {
     "duration": 0.028819,
     "end_time": "2022-08-09T09:51:11.386479",
     "exception": false,
     "start_time": "2022-08-09T09:51:11.357660",
     "status": "completed"
    },
    "tags": []
   },
   "outputs": [
    {
     "data": {
      "text/html": [
       "<div>\n",
       "<style scoped>\n",
       "    .dataframe tbody tr th:only-of-type {\n",
       "        vertical-align: middle;\n",
       "    }\n",
       "\n",
       "    .dataframe tbody tr th {\n",
       "        vertical-align: top;\n",
       "    }\n",
       "\n",
       "    .dataframe thead th {\n",
       "        text-align: right;\n",
       "    }\n",
       "</style>\n",
       "<table border=\"1\" class=\"dataframe\">\n",
       "  <thead>\n",
       "    <tr style=\"text-align: right;\">\n",
       "      <th></th>\n",
       "      <th>Station</th>\n",
       "      <th>Price</th>\n",
       "      <th>Property_Size</th>\n",
       "      <th>Address</th>\n",
       "      <th>Distance from Station (miles)</th>\n",
       "      <th>Description</th>\n",
       "      <th>Date Added</th>\n",
       "      <th>Added By Whom</th>\n",
       "      <th>Telephone Number</th>\n",
       "      <th>Commute Time</th>\n",
       "    </tr>\n",
       "  </thead>\n",
       "  <tbody>\n",
       "    <tr>\n",
       "      <th>0</th>\n",
       "      <td>Abbey Wood station</td>\n",
       "      <td>£100000</td>\n",
       "      <td>2 bedroom flat for sale</td>\n",
       "      <td>7 Avocet Mews Woolwich London SE28 0DA</td>\n",
       "      <td>1.55</td>\n",
       "      <td>**For Sale By Public Auction 3rd August 2022 0...</td>\n",
       "      <td>Added on 13/07/2022</td>\n",
       "      <td>by Auction House London Hampstead</td>\n",
       "      <td>020 8012 3603</td>\n",
       "      <td>31</td>\n",
       "    </tr>\n",
       "    <tr>\n",
       "      <th>1</th>\n",
       "      <td>Abbey Wood station</td>\n",
       "      <td>£100000</td>\n",
       "      <td>2 bedroom flat for sale</td>\n",
       "      <td>16 Mossdown Close Belvedere Kent DA17 5QW</td>\n",
       "      <td>1.32</td>\n",
       "      <td>**For Sale By Public Auction 3rd August 2022 0...</td>\n",
       "      <td>Added on 31/03/2022</td>\n",
       "      <td>by Auction House London Hampstead</td>\n",
       "      <td>020 8012 3603</td>\n",
       "      <td>31</td>\n",
       "    </tr>\n",
       "    <tr>\n",
       "      <th>2</th>\n",
       "      <td>Abbey Wood station</td>\n",
       "      <td>£120000</td>\n",
       "      <td>1 bedroom flat for sale</td>\n",
       "      <td>Flat   Park Crescent Erith</td>\n",
       "      <td>2.20</td>\n",
       "      <td>100 Key Properties is pleased to present this ...</td>\n",
       "      <td>Reduced on 21/07/2022</td>\n",
       "      <td>by 100 Key Properties Hornchurch</td>\n",
       "      <td>020 8012 3340</td>\n",
       "      <td>31</td>\n",
       "    </tr>\n",
       "    <tr>\n",
       "      <th>3</th>\n",
       "      <td>Abbey Wood station</td>\n",
       "      <td>£125000</td>\n",
       "      <td>1 bedroom flat for sale</td>\n",
       "      <td>Flat 323 The Vista Building 30 Calderwood Stre...</td>\n",
       "      <td>2.42</td>\n",
       "      <td>**For Sale By Public Auction 3rd August 2022 0...</td>\n",
       "      <td>Added on 13/07/2022</td>\n",
       "      <td>by Auction House London Hampstead</td>\n",
       "      <td>020 8012 3603</td>\n",
       "      <td>31</td>\n",
       "    </tr>\n",
       "    <tr>\n",
       "      <th>4</th>\n",
       "      <td>Abbey Wood station</td>\n",
       "      <td>£125000</td>\n",
       "      <td>3 bedroom flat for sale</td>\n",
       "      <td>32 Brinkburn Close Abbey Wood London SE2 9EJ</td>\n",
       "      <td>0.60</td>\n",
       "      <td>**For Sale By Public Auction 3rd August 2022 0...</td>\n",
       "      <td>Added on 12/07/2022</td>\n",
       "      <td>by Auction House London Hampstead</td>\n",
       "      <td>020 8012 3603</td>\n",
       "      <td>31</td>\n",
       "    </tr>\n",
       "  </tbody>\n",
       "</table>\n",
       "</div>"
      ],
      "text/plain": [
       "              Station    Price            Property_Size  \\\n",
       "0  Abbey Wood station  £100000  2 bedroom flat for sale   \n",
       "1  Abbey Wood station  £100000  2 bedroom flat for sale   \n",
       "2  Abbey Wood station  £120000  1 bedroom flat for sale   \n",
       "3  Abbey Wood station  £125000  1 bedroom flat for sale   \n",
       "4  Abbey Wood station  £125000  3 bedroom flat for sale   \n",
       "\n",
       "                                             Address  \\\n",
       "0             7 Avocet Mews Woolwich London SE28 0DA   \n",
       "1          16 Mossdown Close Belvedere Kent DA17 5QW   \n",
       "2                         Flat   Park Crescent Erith   \n",
       "3  Flat 323 The Vista Building 30 Calderwood Stre...   \n",
       "4       32 Brinkburn Close Abbey Wood London SE2 9EJ   \n",
       "\n",
       "   Distance from Station (miles)  \\\n",
       "0                           1.55   \n",
       "1                           1.32   \n",
       "2                           2.20   \n",
       "3                           2.42   \n",
       "4                           0.60   \n",
       "\n",
       "                                         Description             Date Added  \\\n",
       "0  **For Sale By Public Auction 3rd August 2022 0...    Added on 13/07/2022   \n",
       "1  **For Sale By Public Auction 3rd August 2022 0...    Added on 31/03/2022   \n",
       "2  100 Key Properties is pleased to present this ...  Reduced on 21/07/2022   \n",
       "3  **For Sale By Public Auction 3rd August 2022 0...    Added on 13/07/2022   \n",
       "4  **For Sale By Public Auction 3rd August 2022 0...    Added on 12/07/2022   \n",
       "\n",
       "                       Added By Whom  Telephone Number  Commute Time  \n",
       "0  by Auction House London Hampstead     020 8012 3603            31  \n",
       "1  by Auction House London Hampstead     020 8012 3603            31  \n",
       "2   by 100 Key Properties Hornchurch     020 8012 3340            31  \n",
       "3  by Auction House London Hampstead     020 8012 3603            31  \n",
       "4  by Auction House London Hampstead     020 8012 3603            31  "
      ]
     },
     "execution_count": 3,
     "metadata": {},
     "output_type": "execute_result"
    }
   ],
   "source": [
    "data.head()"
   ]
  },
  {
   "cell_type": "code",
   "execution_count": 4,
   "id": "f3488d2b",
   "metadata": {
    "execution": {
     "iopub.execute_input": "2022-08-09T09:51:11.399785Z",
     "iopub.status.busy": "2022-08-09T09:51:11.398855Z",
     "iopub.status.idle": "2022-08-09T09:51:11.433043Z",
     "shell.execute_reply": "2022-08-09T09:51:11.431998Z"
    },
    "papermill": {
     "duration": 0.043531,
     "end_time": "2022-08-09T09:51:11.435900",
     "exception": false,
     "start_time": "2022-08-09T09:51:11.392369",
     "status": "completed"
    },
    "tags": []
   },
   "outputs": [
    {
     "name": "stdout",
     "output_type": "stream",
     "text": [
      "<class 'pandas.core.frame.DataFrame'>\n",
      "RangeIndex: 41873 entries, 0 to 41872\n",
      "Data columns (total 10 columns):\n",
      " #   Column                         Non-Null Count  Dtype  \n",
      "---  ------                         --------------  -----  \n",
      " 0   Station                        41873 non-null  object \n",
      " 1   Price                          41873 non-null  object \n",
      " 2   Property_Size                  41873 non-null  object \n",
      " 3   Address                        41873 non-null  object \n",
      " 4   Distance from Station (miles)  41873 non-null  float64\n",
      " 5   Description                    41847 non-null  object \n",
      " 6   Date Added                     41873 non-null  object \n",
      " 7   Added By Whom                  41873 non-null  object \n",
      " 8    Telephone Number              41873 non-null  object \n",
      " 9   Commute Time                   41873 non-null  int64  \n",
      "dtypes: float64(1), int64(1), object(8)\n",
      "memory usage: 3.2+ MB\n"
     ]
    }
   ],
   "source": [
    "data.info()"
   ]
  },
  {
   "cell_type": "markdown",
   "id": "0a49c577",
   "metadata": {
    "papermill": {
     "duration": 0.005669,
     "end_time": "2022-08-09T09:51:11.448491",
     "exception": false,
     "start_time": "2022-08-09T09:51:11.442822",
     "status": "completed"
    },
    "tags": []
   },
   "source": [
    "Let's clean the Price column. "
   ]
  },
  {
   "cell_type": "code",
   "execution_count": 5,
   "id": "64a37d23",
   "metadata": {
    "execution": {
     "iopub.execute_input": "2022-08-09T09:51:11.461589Z",
     "iopub.status.busy": "2022-08-09T09:51:11.461117Z",
     "iopub.status.idle": "2022-08-09T09:51:11.530281Z",
     "shell.execute_reply": "2022-08-09T09:51:11.529169Z"
    },
    "papermill": {
     "duration": 0.078115,
     "end_time": "2022-08-09T09:51:11.532400",
     "exception": false,
     "start_time": "2022-08-09T09:51:11.454285",
     "status": "completed"
    },
    "tags": []
   },
   "outputs": [],
   "source": [
    "data.Price = data.Price.str.replace(\"£\",\"\")\n",
    "data.Price = data.Price.str.replace(\"POA\",\"\")\n",
    "data.Price = pd.to_numeric(data.Price, errors='coerce')"
   ]
  },
  {
   "cell_type": "markdown",
   "id": "a35891ad",
   "metadata": {
    "papermill": {
     "duration": 0.005437,
     "end_time": "2022-08-09T09:51:11.543851",
     "exception": false,
     "start_time": "2022-08-09T09:51:11.538414",
     "status": "completed"
    },
    "tags": []
   },
   "source": [
    "Next, let's extract the dates from the Date Added (string) column. After some research and testing, I'd use the following approach.\n",
    "\n",
    "Please feel free to suggest a faster and more elegant method. "
   ]
  },
  {
   "cell_type": "code",
   "execution_count": 6,
   "id": "51ff2372",
   "metadata": {
    "execution": {
     "iopub.execute_input": "2022-08-09T09:51:11.556451Z",
     "iopub.status.busy": "2022-08-09T09:51:11.555923Z",
     "iopub.status.idle": "2022-08-09T09:51:21.134780Z",
     "shell.execute_reply": "2022-08-09T09:51:21.134185Z"
    },
    "papermill": {
     "duration": 9.587623,
     "end_time": "2022-08-09T09:51:21.137082",
     "exception": false,
     "start_time": "2022-08-09T09:51:11.549459",
     "status": "completed"
    },
    "tags": []
   },
   "outputs": [
    {
     "name": "stdout",
     "output_type": "stream",
     "text": [
      "Collecting datefinder\r\n",
      "  Downloading datefinder-0.7.3-py2.py3-none-any.whl (10 kB)\r\n",
      "Requirement already satisfied: regex>=2017.02.08 in /opt/conda/lib/python3.7/site-packages (from datefinder) (2021.11.10)\r\n",
      "Requirement already satisfied: python-dateutil>=2.4.2 in /opt/conda/lib/python3.7/site-packages (from datefinder) (2.8.2)\r\n",
      "Requirement already satisfied: pytz in /opt/conda/lib/python3.7/site-packages (from datefinder) (2022.1)\r\n",
      "Requirement already satisfied: six>=1.5 in /opt/conda/lib/python3.7/site-packages (from python-dateutil>=2.4.2->datefinder) (1.16.0)\r\n",
      "Installing collected packages: datefinder\r\n",
      "Successfully installed datefinder-0.7.3\r\n",
      "\u001b[33mWARNING: Running pip as the 'root' user can result in broken permissions and conflicting behaviour with the system package manager. It is recommended to use a virtual environment instead: https://pip.pypa.io/warnings/venv\u001b[0m\u001b[33m\r\n",
      "\u001b[0mNote: you may need to restart the kernel to use updated packages.\n"
     ]
    }
   ],
   "source": [
    "pip install datefinder"
   ]
  },
  {
   "cell_type": "markdown",
   "id": "5407562d",
   "metadata": {
    "papermill": {
     "duration": 0.006459,
     "end_time": "2022-08-09T09:51:21.152433",
     "exception": false,
     "start_time": "2022-08-09T09:51:21.145974",
     "status": "completed"
    },
    "tags": []
   },
   "source": []
  },
  {
   "cell_type": "code",
   "execution_count": 7,
   "id": "2dd3f64e",
   "metadata": {
    "execution": {
     "iopub.execute_input": "2022-08-09T09:51:21.166271Z",
     "iopub.status.busy": "2022-08-09T09:51:21.165954Z",
     "iopub.status.idle": "2022-08-09T09:51:31.919445Z",
     "shell.execute_reply": "2022-08-09T09:51:31.918620Z"
    },
    "papermill": {
     "duration": 10.762702,
     "end_time": "2022-08-09T09:51:31.921499",
     "exception": false,
     "start_time": "2022-08-09T09:51:21.158797",
     "status": "completed"
    },
    "tags": []
   },
   "outputs": [],
   "source": [
    "import datefinder\n",
    "data[\"Date Added New\"] = data[\"Date Added\"].apply(lambda x: list(datefinder.find_dates(x)))\n",
    "data[\"Date Added New\"] = data[\"Date Added New\"].apply(lambda x: ' '.join(map(str, x)))\n",
    "data[\"Date Added New\"] = pd.to_datetime(data[\"Date Added New\"], format = \"%Y-%m-%d %H:%M:%S\")\n",
    "data = data.drop([\"Date Added\"],axis = 1)"
   ]
  },
  {
   "cell_type": "code",
   "execution_count": 8,
   "id": "6fe43d95",
   "metadata": {
    "execution": {
     "iopub.execute_input": "2022-08-09T09:51:31.935499Z",
     "iopub.status.busy": "2022-08-09T09:51:31.934976Z",
     "iopub.status.idle": "2022-08-09T09:51:31.948884Z",
     "shell.execute_reply": "2022-08-09T09:51:31.948076Z"
    },
    "papermill": {
     "duration": 0.022962,
     "end_time": "2022-08-09T09:51:31.950781",
     "exception": false,
     "start_time": "2022-08-09T09:51:31.927819",
     "status": "completed"
    },
    "tags": []
   },
   "outputs": [
    {
     "data": {
      "text/html": [
       "<div>\n",
       "<style scoped>\n",
       "    .dataframe tbody tr th:only-of-type {\n",
       "        vertical-align: middle;\n",
       "    }\n",
       "\n",
       "    .dataframe tbody tr th {\n",
       "        vertical-align: top;\n",
       "    }\n",
       "\n",
       "    .dataframe thead th {\n",
       "        text-align: right;\n",
       "    }\n",
       "</style>\n",
       "<table border=\"1\" class=\"dataframe\">\n",
       "  <thead>\n",
       "    <tr style=\"text-align: right;\">\n",
       "      <th></th>\n",
       "      <th>Station</th>\n",
       "      <th>Price</th>\n",
       "      <th>Property_Size</th>\n",
       "      <th>Address</th>\n",
       "      <th>Distance from Station (miles)</th>\n",
       "      <th>Description</th>\n",
       "      <th>Added By Whom</th>\n",
       "      <th>Telephone Number</th>\n",
       "      <th>Commute Time</th>\n",
       "      <th>Date Added New</th>\n",
       "    </tr>\n",
       "  </thead>\n",
       "  <tbody>\n",
       "    <tr>\n",
       "      <th>0</th>\n",
       "      <td>Abbey Wood station</td>\n",
       "      <td>100000.0</td>\n",
       "      <td>2 bedroom flat for sale</td>\n",
       "      <td>7 Avocet Mews Woolwich London SE28 0DA</td>\n",
       "      <td>1.55</td>\n",
       "      <td>**For Sale By Public Auction 3rd August 2022 0...</td>\n",
       "      <td>by Auction House London Hampstead</td>\n",
       "      <td>020 8012 3603</td>\n",
       "      <td>31</td>\n",
       "      <td>2022-07-13</td>\n",
       "    </tr>\n",
       "    <tr>\n",
       "      <th>1</th>\n",
       "      <td>Abbey Wood station</td>\n",
       "      <td>100000.0</td>\n",
       "      <td>2 bedroom flat for sale</td>\n",
       "      <td>16 Mossdown Close Belvedere Kent DA17 5QW</td>\n",
       "      <td>1.32</td>\n",
       "      <td>**For Sale By Public Auction 3rd August 2022 0...</td>\n",
       "      <td>by Auction House London Hampstead</td>\n",
       "      <td>020 8012 3603</td>\n",
       "      <td>31</td>\n",
       "      <td>2022-03-31</td>\n",
       "    </tr>\n",
       "    <tr>\n",
       "      <th>2</th>\n",
       "      <td>Abbey Wood station</td>\n",
       "      <td>120000.0</td>\n",
       "      <td>1 bedroom flat for sale</td>\n",
       "      <td>Flat   Park Crescent Erith</td>\n",
       "      <td>2.20</td>\n",
       "      <td>100 Key Properties is pleased to present this ...</td>\n",
       "      <td>by 100 Key Properties Hornchurch</td>\n",
       "      <td>020 8012 3340</td>\n",
       "      <td>31</td>\n",
       "      <td>2022-07-21</td>\n",
       "    </tr>\n",
       "    <tr>\n",
       "      <th>3</th>\n",
       "      <td>Abbey Wood station</td>\n",
       "      <td>125000.0</td>\n",
       "      <td>1 bedroom flat for sale</td>\n",
       "      <td>Flat 323 The Vista Building 30 Calderwood Stre...</td>\n",
       "      <td>2.42</td>\n",
       "      <td>**For Sale By Public Auction 3rd August 2022 0...</td>\n",
       "      <td>by Auction House London Hampstead</td>\n",
       "      <td>020 8012 3603</td>\n",
       "      <td>31</td>\n",
       "      <td>2022-07-13</td>\n",
       "    </tr>\n",
       "    <tr>\n",
       "      <th>4</th>\n",
       "      <td>Abbey Wood station</td>\n",
       "      <td>125000.0</td>\n",
       "      <td>3 bedroom flat for sale</td>\n",
       "      <td>32 Brinkburn Close Abbey Wood London SE2 9EJ</td>\n",
       "      <td>0.60</td>\n",
       "      <td>**For Sale By Public Auction 3rd August 2022 0...</td>\n",
       "      <td>by Auction House London Hampstead</td>\n",
       "      <td>020 8012 3603</td>\n",
       "      <td>31</td>\n",
       "      <td>2022-12-07</td>\n",
       "    </tr>\n",
       "  </tbody>\n",
       "</table>\n",
       "</div>"
      ],
      "text/plain": [
       "              Station     Price            Property_Size  \\\n",
       "0  Abbey Wood station  100000.0  2 bedroom flat for sale   \n",
       "1  Abbey Wood station  100000.0  2 bedroom flat for sale   \n",
       "2  Abbey Wood station  120000.0  1 bedroom flat for sale   \n",
       "3  Abbey Wood station  125000.0  1 bedroom flat for sale   \n",
       "4  Abbey Wood station  125000.0  3 bedroom flat for sale   \n",
       "\n",
       "                                             Address  \\\n",
       "0             7 Avocet Mews Woolwich London SE28 0DA   \n",
       "1          16 Mossdown Close Belvedere Kent DA17 5QW   \n",
       "2                         Flat   Park Crescent Erith   \n",
       "3  Flat 323 The Vista Building 30 Calderwood Stre...   \n",
       "4       32 Brinkburn Close Abbey Wood London SE2 9EJ   \n",
       "\n",
       "   Distance from Station (miles)  \\\n",
       "0                           1.55   \n",
       "1                           1.32   \n",
       "2                           2.20   \n",
       "3                           2.42   \n",
       "4                           0.60   \n",
       "\n",
       "                                         Description  \\\n",
       "0  **For Sale By Public Auction 3rd August 2022 0...   \n",
       "1  **For Sale By Public Auction 3rd August 2022 0...   \n",
       "2  100 Key Properties is pleased to present this ...   \n",
       "3  **For Sale By Public Auction 3rd August 2022 0...   \n",
       "4  **For Sale By Public Auction 3rd August 2022 0...   \n",
       "\n",
       "                       Added By Whom  Telephone Number  Commute Time  \\\n",
       "0  by Auction House London Hampstead     020 8012 3603            31   \n",
       "1  by Auction House London Hampstead     020 8012 3603            31   \n",
       "2   by 100 Key Properties Hornchurch     020 8012 3340            31   \n",
       "3  by Auction House London Hampstead     020 8012 3603            31   \n",
       "4  by Auction House London Hampstead     020 8012 3603            31   \n",
       "\n",
       "  Date Added New  \n",
       "0     2022-07-13  \n",
       "1     2022-03-31  \n",
       "2     2022-07-21  \n",
       "3     2022-07-13  \n",
       "4     2022-12-07  "
      ]
     },
     "execution_count": 8,
     "metadata": {},
     "output_type": "execute_result"
    }
   ],
   "source": [
    "data.head()"
   ]
  },
  {
   "cell_type": "markdown",
   "id": "fbf1f992",
   "metadata": {
    "papermill": {
     "duration": 0.006034,
     "end_time": "2022-08-09T09:51:31.963329",
     "exception": false,
     "start_time": "2022-08-09T09:51:31.957295",
     "status": "completed"
    },
    "tags": []
   },
   "source": [
    "I don't need the following three columns. Perhaps I would've used some information from the Description col for EDA purposes (ie, For Sale vs Relisted etc) "
   ]
  },
  {
   "cell_type": "code",
   "execution_count": 9,
   "id": "fcc73884",
   "metadata": {
    "execution": {
     "iopub.execute_input": "2022-08-09T09:51:31.977308Z",
     "iopub.status.busy": "2022-08-09T09:51:31.976643Z",
     "iopub.status.idle": "2022-08-09T09:51:31.982618Z",
     "shell.execute_reply": "2022-08-09T09:51:31.982027Z"
    },
    "papermill": {
     "duration": 0.01485,
     "end_time": "2022-08-09T09:51:31.984335",
     "exception": false,
     "start_time": "2022-08-09T09:51:31.969485",
     "status": "completed"
    },
    "tags": []
   },
   "outputs": [],
   "source": [
    "data = data.drop([\"Description\", \"Added By Whom\", \" Telephone Number\"], axis = 1)"
   ]
  },
  {
   "cell_type": "code",
   "execution_count": 10,
   "id": "740c4c61",
   "metadata": {
    "execution": {
     "iopub.execute_input": "2022-08-09T09:51:31.997969Z",
     "iopub.status.busy": "2022-08-09T09:51:31.997720Z",
     "iopub.status.idle": "2022-08-09T09:51:32.015221Z",
     "shell.execute_reply": "2022-08-09T09:51:32.013920Z"
    },
    "papermill": {
     "duration": 0.027053,
     "end_time": "2022-08-09T09:51:32.017738",
     "exception": false,
     "start_time": "2022-08-09T09:51:31.990685",
     "status": "completed"
    },
    "tags": []
   },
   "outputs": [
    {
     "name": "stdout",
     "output_type": "stream",
     "text": [
      "<class 'pandas.core.frame.DataFrame'>\n",
      "RangeIndex: 41873 entries, 0 to 41872\n",
      "Data columns (total 7 columns):\n",
      " #   Column                         Non-Null Count  Dtype         \n",
      "---  ------                         --------------  -----         \n",
      " 0   Station                        41873 non-null  object        \n",
      " 1   Price                          41860 non-null  float64       \n",
      " 2   Property_Size                  41873 non-null  object        \n",
      " 3   Address                        41873 non-null  object        \n",
      " 4   Distance from Station (miles)  41873 non-null  float64       \n",
      " 5   Commute Time                   41873 non-null  int64         \n",
      " 6   Date Added New                 41350 non-null  datetime64[ns]\n",
      "dtypes: datetime64[ns](1), float64(2), int64(1), object(3)\n",
      "memory usage: 2.2+ MB\n"
     ]
    }
   ],
   "source": [
    "data.info()"
   ]
  },
  {
   "cell_type": "markdown",
   "id": "1ea2bbf1",
   "metadata": {
    "papermill": {
     "duration": 0.006162,
     "end_time": "2022-08-09T09:51:32.030418",
     "exception": false,
     "start_time": "2022-08-09T09:51:32.024256",
     "status": "completed"
    },
    "tags": []
   },
   "source": [
    "Let's extract the UK Postcodes from the Address column.\n",
    "\n",
    "Don't forget to replace the empty spaces '' with a nan and drop them afterwords."
   ]
  },
  {
   "cell_type": "markdown",
   "id": "c30c1bb4",
   "metadata": {
    "papermill": {
     "duration": 0.006073,
     "end_time": "2022-08-09T09:51:32.042904",
     "exception": false,
     "start_time": "2022-08-09T09:51:32.036831",
     "status": "completed"
    },
    "tags": []
   },
   "source": []
  },
  {
   "cell_type": "code",
   "execution_count": 11,
   "id": "a6c86421",
   "metadata": {
    "execution": {
     "iopub.execute_input": "2022-08-09T09:51:32.057544Z",
     "iopub.status.busy": "2022-08-09T09:51:32.056935Z",
     "iopub.status.idle": "2022-08-09T09:51:32.443705Z",
     "shell.execute_reply": "2022-08-09T09:51:32.442536Z"
    },
    "papermill": {
     "duration": 0.396937,
     "end_time": "2022-08-09T09:51:32.446253",
     "exception": false,
     "start_time": "2022-08-09T09:51:32.049316",
     "status": "completed"
    },
    "tags": []
   },
   "outputs": [],
   "source": [
    "data[\"post_codes\"] = data.Address.str.findall(r\"[A-Z]{1,2}[0-9R][0-9A-Z]? [0-9][A-Z]{2}\")\n",
    "data.post_codes = data.post_codes.apply(lambda x: ' '.join(map(str, x)))\n",
    "\n",
    "data1 = data.replace(r'^\\s*$', np.nan, regex=True)"
   ]
  },
  {
   "cell_type": "code",
   "execution_count": 12,
   "id": "74dd1f71",
   "metadata": {
    "execution": {
     "iopub.execute_input": "2022-08-09T09:51:32.460806Z",
     "iopub.status.busy": "2022-08-09T09:51:32.460490Z",
     "iopub.status.idle": "2022-08-09T09:51:32.480445Z",
     "shell.execute_reply": "2022-08-09T09:51:32.479483Z"
    },
    "papermill": {
     "duration": 0.029563,
     "end_time": "2022-08-09T09:51:32.482387",
     "exception": false,
     "start_time": "2022-08-09T09:51:32.452824",
     "status": "completed"
    },
    "tags": []
   },
   "outputs": [
    {
     "data": {
      "text/html": [
       "<div>\n",
       "<style scoped>\n",
       "    .dataframe tbody tr th:only-of-type {\n",
       "        vertical-align: middle;\n",
       "    }\n",
       "\n",
       "    .dataframe tbody tr th {\n",
       "        vertical-align: top;\n",
       "    }\n",
       "\n",
       "    .dataframe thead th {\n",
       "        text-align: right;\n",
       "    }\n",
       "</style>\n",
       "<table border=\"1\" class=\"dataframe\">\n",
       "  <thead>\n",
       "    <tr style=\"text-align: right;\">\n",
       "      <th></th>\n",
       "      <th>Station</th>\n",
       "      <th>Price</th>\n",
       "      <th>Property_Size</th>\n",
       "      <th>Address</th>\n",
       "      <th>Distance from Station (miles)</th>\n",
       "      <th>Commute Time</th>\n",
       "      <th>Date Added New</th>\n",
       "      <th>post_codes</th>\n",
       "    </tr>\n",
       "  </thead>\n",
       "  <tbody>\n",
       "    <tr>\n",
       "      <th>0</th>\n",
       "      <td>Abbey Wood station</td>\n",
       "      <td>100000.0</td>\n",
       "      <td>2 bedroom flat for sale</td>\n",
       "      <td>7 Avocet Mews Woolwich London SE28 0DA</td>\n",
       "      <td>1.55</td>\n",
       "      <td>31</td>\n",
       "      <td>2022-07-13</td>\n",
       "      <td>SE28 0DA</td>\n",
       "    </tr>\n",
       "    <tr>\n",
       "      <th>1</th>\n",
       "      <td>Abbey Wood station</td>\n",
       "      <td>100000.0</td>\n",
       "      <td>2 bedroom flat for sale</td>\n",
       "      <td>16 Mossdown Close Belvedere Kent DA17 5QW</td>\n",
       "      <td>1.32</td>\n",
       "      <td>31</td>\n",
       "      <td>2022-03-31</td>\n",
       "      <td>DA17 5QW</td>\n",
       "    </tr>\n",
       "    <tr>\n",
       "      <th>2</th>\n",
       "      <td>Abbey Wood station</td>\n",
       "      <td>120000.0</td>\n",
       "      <td>1 bedroom flat for sale</td>\n",
       "      <td>Flat   Park Crescent Erith</td>\n",
       "      <td>2.20</td>\n",
       "      <td>31</td>\n",
       "      <td>2022-07-21</td>\n",
       "      <td>NaN</td>\n",
       "    </tr>\n",
       "    <tr>\n",
       "      <th>3</th>\n",
       "      <td>Abbey Wood station</td>\n",
       "      <td>125000.0</td>\n",
       "      <td>1 bedroom flat for sale</td>\n",
       "      <td>Flat 323 The Vista Building 30 Calderwood Stre...</td>\n",
       "      <td>2.42</td>\n",
       "      <td>31</td>\n",
       "      <td>2022-07-13</td>\n",
       "      <td>SE18 6JF</td>\n",
       "    </tr>\n",
       "    <tr>\n",
       "      <th>4</th>\n",
       "      <td>Abbey Wood station</td>\n",
       "      <td>125000.0</td>\n",
       "      <td>3 bedroom flat for sale</td>\n",
       "      <td>32 Brinkburn Close Abbey Wood London SE2 9EJ</td>\n",
       "      <td>0.60</td>\n",
       "      <td>31</td>\n",
       "      <td>2022-12-07</td>\n",
       "      <td>SE2 9EJ</td>\n",
       "    </tr>\n",
       "    <tr>\n",
       "      <th>...</th>\n",
       "      <td>...</td>\n",
       "      <td>...</td>\n",
       "      <td>...</td>\n",
       "      <td>...</td>\n",
       "      <td>...</td>\n",
       "      <td>...</td>\n",
       "      <td>...</td>\n",
       "      <td>...</td>\n",
       "    </tr>\n",
       "    <tr>\n",
       "      <th>41868</th>\n",
       "      <td>Wye station</td>\n",
       "      <td>330000.0</td>\n",
       "      <td>3 bedroom house for sale</td>\n",
       "      <td>Larch Walk Kennington Ashford</td>\n",
       "      <td>2.54</td>\n",
       "      <td>84</td>\n",
       "      <td>2022-07-28</td>\n",
       "      <td>NaN</td>\n",
       "    </tr>\n",
       "    <tr>\n",
       "      <th>41869</th>\n",
       "      <td>Wye station</td>\n",
       "      <td>335000.0</td>\n",
       "      <td>3 bedroom semi-detached house for sale</td>\n",
       "      <td>Rylands Road Kennington Ashford</td>\n",
       "      <td>2.60</td>\n",
       "      <td>84</td>\n",
       "      <td>2022-07-15</td>\n",
       "      <td>NaN</td>\n",
       "    </tr>\n",
       "    <tr>\n",
       "      <th>41870</th>\n",
       "      <td>Wye station</td>\n",
       "      <td>350000.0</td>\n",
       "      <td>3 bedroom apartment for sale</td>\n",
       "      <td>Harville Road ASHFORD</td>\n",
       "      <td>0.48</td>\n",
       "      <td>84</td>\n",
       "      <td>2022-05-13</td>\n",
       "      <td>NaN</td>\n",
       "    </tr>\n",
       "    <tr>\n",
       "      <th>41871</th>\n",
       "      <td>Wye station</td>\n",
       "      <td>350000.0</td>\n",
       "      <td>3 bedroom detached house for sale</td>\n",
       "      <td>Jersey Close Kennington Ashford Kent TN24</td>\n",
       "      <td>2.21</td>\n",
       "      <td>84</td>\n",
       "      <td>2022-06-25</td>\n",
       "      <td>NaN</td>\n",
       "    </tr>\n",
       "    <tr>\n",
       "      <th>41872</th>\n",
       "      <td>Wye station</td>\n",
       "      <td>350000.0</td>\n",
       "      <td>2 bedroom semi-detached house for sale</td>\n",
       "      <td>Orchard Drive Wye Ashford Kent</td>\n",
       "      <td>0.60</td>\n",
       "      <td>84</td>\n",
       "      <td>2022-07-22</td>\n",
       "      <td>NaN</td>\n",
       "    </tr>\n",
       "  </tbody>\n",
       "</table>\n",
       "<p>41873 rows × 8 columns</p>\n",
       "</div>"
      ],
      "text/plain": [
       "                  Station     Price                           Property_Size  \\\n",
       "0      Abbey Wood station  100000.0                 2 bedroom flat for sale   \n",
       "1      Abbey Wood station  100000.0                 2 bedroom flat for sale   \n",
       "2      Abbey Wood station  120000.0                 1 bedroom flat for sale   \n",
       "3      Abbey Wood station  125000.0                 1 bedroom flat for sale   \n",
       "4      Abbey Wood station  125000.0                 3 bedroom flat for sale   \n",
       "...                   ...       ...                                     ...   \n",
       "41868         Wye station  330000.0                3 bedroom house for sale   \n",
       "41869         Wye station  335000.0  3 bedroom semi-detached house for sale   \n",
       "41870         Wye station  350000.0            3 bedroom apartment for sale   \n",
       "41871         Wye station  350000.0       3 bedroom detached house for sale   \n",
       "41872         Wye station  350000.0  2 bedroom semi-detached house for sale   \n",
       "\n",
       "                                                 Address  \\\n",
       "0                 7 Avocet Mews Woolwich London SE28 0DA   \n",
       "1              16 Mossdown Close Belvedere Kent DA17 5QW   \n",
       "2                             Flat   Park Crescent Erith   \n",
       "3      Flat 323 The Vista Building 30 Calderwood Stre...   \n",
       "4           32 Brinkburn Close Abbey Wood London SE2 9EJ   \n",
       "...                                                  ...   \n",
       "41868                      Larch Walk Kennington Ashford   \n",
       "41869                    Rylands Road Kennington Ashford   \n",
       "41870                              Harville Road ASHFORD   \n",
       "41871          Jersey Close Kennington Ashford Kent TN24   \n",
       "41872                     Orchard Drive Wye Ashford Kent   \n",
       "\n",
       "       Distance from Station (miles)  Commute Time Date Added New post_codes  \n",
       "0                               1.55            31     2022-07-13   SE28 0DA  \n",
       "1                               1.32            31     2022-03-31   DA17 5QW  \n",
       "2                               2.20            31     2022-07-21        NaN  \n",
       "3                               2.42            31     2022-07-13   SE18 6JF  \n",
       "4                               0.60            31     2022-12-07    SE2 9EJ  \n",
       "...                              ...           ...            ...        ...  \n",
       "41868                           2.54            84     2022-07-28        NaN  \n",
       "41869                           2.60            84     2022-07-15        NaN  \n",
       "41870                           0.48            84     2022-05-13        NaN  \n",
       "41871                           2.21            84     2022-06-25        NaN  \n",
       "41872                           0.60            84     2022-07-22        NaN  \n",
       "\n",
       "[41873 rows x 8 columns]"
      ]
     },
     "execution_count": 12,
     "metadata": {},
     "output_type": "execute_result"
    }
   ],
   "source": [
    "data1"
   ]
  },
  {
   "cell_type": "code",
   "execution_count": 13,
   "id": "738ec81e",
   "metadata": {
    "execution": {
     "iopub.execute_input": "2022-08-09T09:51:32.497314Z",
     "iopub.status.busy": "2022-08-09T09:51:32.496856Z",
     "iopub.status.idle": "2022-08-09T09:51:32.514411Z",
     "shell.execute_reply": "2022-08-09T09:51:32.513093Z"
    },
    "papermill": {
     "duration": 0.027082,
     "end_time": "2022-08-09T09:51:32.516392",
     "exception": false,
     "start_time": "2022-08-09T09:51:32.489310",
     "status": "completed"
    },
    "tags": []
   },
   "outputs": [
    {
     "name": "stdout",
     "output_type": "stream",
     "text": [
      "<class 'pandas.core.frame.DataFrame'>\n",
      "RangeIndex: 41873 entries, 0 to 41872\n",
      "Data columns (total 8 columns):\n",
      " #   Column                         Non-Null Count  Dtype         \n",
      "---  ------                         --------------  -----         \n",
      " 0   Station                        41873 non-null  object        \n",
      " 1   Price                          41860 non-null  float64       \n",
      " 2   Property_Size                  41873 non-null  object        \n",
      " 3   Address                        41873 non-null  object        \n",
      " 4   Distance from Station (miles)  41873 non-null  float64       \n",
      " 5   Commute Time                   41873 non-null  int64         \n",
      " 6   Date Added New                 41350 non-null  datetime64[ns]\n",
      " 7   post_codes                     2339 non-null   object        \n",
      "dtypes: datetime64[ns](1), float64(2), int64(1), object(4)\n",
      "memory usage: 2.6+ MB\n"
     ]
    }
   ],
   "source": [
    "data1.info()"
   ]
  },
  {
   "cell_type": "markdown",
   "id": "70a55c02",
   "metadata": {
    "papermill": {
     "duration": 0.006957,
     "end_time": "2022-08-09T09:51:32.530538",
     "exception": false,
     "start_time": "2022-08-09T09:51:32.523581",
     "status": "completed"
    },
    "tags": []
   },
   "source": [
    "Oh that's a bit of disappointment. There are only 2339 post codes! I don't need them then. \n",
    "\n",
    "That's a problem that Rightmove should fix!!!"
   ]
  },
  {
   "cell_type": "code",
   "execution_count": 14,
   "id": "e097d20b",
   "metadata": {
    "execution": {
     "iopub.execute_input": "2022-08-09T09:51:32.545936Z",
     "iopub.status.busy": "2022-08-09T09:51:32.545626Z",
     "iopub.status.idle": "2022-08-09T09:51:32.554078Z",
     "shell.execute_reply": "2022-08-09T09:51:32.553094Z"
    },
    "papermill": {
     "duration": 0.018436,
     "end_time": "2022-08-09T09:51:32.556034",
     "exception": false,
     "start_time": "2022-08-09T09:51:32.537598",
     "status": "completed"
    },
    "tags": []
   },
   "outputs": [],
   "source": [
    "data = data.drop([\"Address\",\"post_codes\"], axis =1)"
   ]
  },
  {
   "cell_type": "markdown",
   "id": "d4032aaa",
   "metadata": {
    "papermill": {
     "duration": 0.006571,
     "end_time": "2022-08-09T09:51:32.569910",
     "exception": false,
     "start_time": "2022-08-09T09:51:32.563339",
     "status": "completed"
    },
    "tags": []
   },
   "source": [
    "Let's transform the long strings into integers. "
   ]
  },
  {
   "cell_type": "code",
   "execution_count": 15,
   "id": "d356a5b0",
   "metadata": {
    "execution": {
     "iopub.execute_input": "2022-08-09T09:51:32.585079Z",
     "iopub.status.busy": "2022-08-09T09:51:32.584431Z",
     "iopub.status.idle": "2022-08-09T09:51:33.455504Z",
     "shell.execute_reply": "2022-08-09T09:51:33.454204Z"
    },
    "papermill": {
     "duration": 0.880633,
     "end_time": "2022-08-09T09:51:33.457226",
     "exception": false,
     "start_time": "2022-08-09T09:51:32.576593",
     "status": "completed"
    },
    "tags": []
   },
   "outputs": [
    {
     "name": "stdout",
     "output_type": "stream",
     "text": [
      "107\n",
      "107\n"
     ]
    }
   ],
   "source": [
    "from sklearn.preprocessing import LabelEncoder\n",
    "LB = LabelEncoder()\n",
    "data[\"property_encoded\"] = LB.fit_transform(data[\"Property_Size\"])\n",
    "\n",
    "print(data.property_encoded.nunique())\n",
    "print(data.Property_Size.nunique())"
   ]
  },
  {
   "cell_type": "code",
   "execution_count": 16,
   "id": "c1aab47f",
   "metadata": {
    "execution": {
     "iopub.execute_input": "2022-08-09T09:51:33.472864Z",
     "iopub.status.busy": "2022-08-09T09:51:33.472572Z",
     "iopub.status.idle": "2022-08-09T09:51:33.487405Z",
     "shell.execute_reply": "2022-08-09T09:51:33.486677Z"
    },
    "papermill": {
     "duration": 0.024562,
     "end_time": "2022-08-09T09:51:33.489000",
     "exception": false,
     "start_time": "2022-08-09T09:51:33.464438",
     "status": "completed"
    },
    "tags": []
   },
   "outputs": [],
   "source": [
    "data[\"station_encoded\"] = LB.fit_transform(data[\"Station\"])\n",
    "data = data.drop([\"Station\",\"Property_Size\"], axis = 1)"
   ]
  },
  {
   "cell_type": "code",
   "execution_count": 17,
   "id": "3aeeb0e8",
   "metadata": {
    "execution": {
     "iopub.execute_input": "2022-08-09T09:51:33.504003Z",
     "iopub.status.busy": "2022-08-09T09:51:33.503537Z",
     "iopub.status.idle": "2022-08-09T09:51:33.517748Z",
     "shell.execute_reply": "2022-08-09T09:51:33.516648Z"
    },
    "papermill": {
     "duration": 0.023689,
     "end_time": "2022-08-09T09:51:33.519672",
     "exception": false,
     "start_time": "2022-08-09T09:51:33.495983",
     "status": "completed"
    },
    "tags": []
   },
   "outputs": [
    {
     "data": {
      "text/html": [
       "<div>\n",
       "<style scoped>\n",
       "    .dataframe tbody tr th:only-of-type {\n",
       "        vertical-align: middle;\n",
       "    }\n",
       "\n",
       "    .dataframe tbody tr th {\n",
       "        vertical-align: top;\n",
       "    }\n",
       "\n",
       "    .dataframe thead th {\n",
       "        text-align: right;\n",
       "    }\n",
       "</style>\n",
       "<table border=\"1\" class=\"dataframe\">\n",
       "  <thead>\n",
       "    <tr style=\"text-align: right;\">\n",
       "      <th></th>\n",
       "      <th>Price</th>\n",
       "      <th>Distance from Station (miles)</th>\n",
       "      <th>Commute Time</th>\n",
       "      <th>Date Added New</th>\n",
       "      <th>property_encoded</th>\n",
       "      <th>station_encoded</th>\n",
       "    </tr>\n",
       "  </thead>\n",
       "  <tbody>\n",
       "    <tr>\n",
       "      <th>0</th>\n",
       "      <td>100000.0</td>\n",
       "      <td>1.55</td>\n",
       "      <td>31</td>\n",
       "      <td>2022-07-13</td>\n",
       "      <td>33</td>\n",
       "      <td>0</td>\n",
       "    </tr>\n",
       "    <tr>\n",
       "      <th>1</th>\n",
       "      <td>100000.0</td>\n",
       "      <td>1.32</td>\n",
       "      <td>31</td>\n",
       "      <td>2022-03-31</td>\n",
       "      <td>33</td>\n",
       "      <td>0</td>\n",
       "    </tr>\n",
       "    <tr>\n",
       "      <th>2</th>\n",
       "      <td>120000.0</td>\n",
       "      <td>2.20</td>\n",
       "      <td>31</td>\n",
       "      <td>2022-07-21</td>\n",
       "      <td>11</td>\n",
       "      <td>0</td>\n",
       "    </tr>\n",
       "    <tr>\n",
       "      <th>3</th>\n",
       "      <td>125000.0</td>\n",
       "      <td>2.42</td>\n",
       "      <td>31</td>\n",
       "      <td>2022-07-13</td>\n",
       "      <td>11</td>\n",
       "      <td>0</td>\n",
       "    </tr>\n",
       "    <tr>\n",
       "      <th>4</th>\n",
       "      <td>125000.0</td>\n",
       "      <td>0.60</td>\n",
       "      <td>31</td>\n",
       "      <td>2022-12-07</td>\n",
       "      <td>56</td>\n",
       "      <td>0</td>\n",
       "    </tr>\n",
       "  </tbody>\n",
       "</table>\n",
       "</div>"
      ],
      "text/plain": [
       "      Price  Distance from Station (miles)  Commute Time Date Added New  \\\n",
       "0  100000.0                           1.55            31     2022-07-13   \n",
       "1  100000.0                           1.32            31     2022-03-31   \n",
       "2  120000.0                           2.20            31     2022-07-21   \n",
       "3  125000.0                           2.42            31     2022-07-13   \n",
       "4  125000.0                           0.60            31     2022-12-07   \n",
       "\n",
       "   property_encoded  station_encoded  \n",
       "0                33                0  \n",
       "1                33                0  \n",
       "2                11                0  \n",
       "3                11                0  \n",
       "4                56                0  "
      ]
     },
     "execution_count": 17,
     "metadata": {},
     "output_type": "execute_result"
    }
   ],
   "source": [
    "data = data.dropna()\n",
    "data.head()"
   ]
  },
  {
   "cell_type": "code",
   "execution_count": 18,
   "id": "863e70cb",
   "metadata": {
    "execution": {
     "iopub.execute_input": "2022-08-09T09:51:33.535884Z",
     "iopub.status.busy": "2022-08-09T09:51:33.535395Z",
     "iopub.status.idle": "2022-08-09T09:51:33.698058Z",
     "shell.execute_reply": "2022-08-09T09:51:33.697262Z"
    },
    "papermill": {
     "duration": 0.172933,
     "end_time": "2022-08-09T09:51:33.699979",
     "exception": false,
     "start_time": "2022-08-09T09:51:33.527046",
     "status": "completed"
    },
    "tags": []
   },
   "outputs": [
    {
     "name": "stdout",
     "output_type": "stream",
     "text": [
      "R2_score:  0.08157046707902205\n",
      "Mean Absolute Error (Train set): 42894.01472551705\n",
      "Root Mean Absolute Error (Train set): 53701.626327430684\n"
     ]
    }
   ],
   "source": [
    "from sklearn.model_selection import train_test_split\n",
    "from sklearn.linear_model import LinearRegression\n",
    "from sklearn.metrics import r2_score\n",
    "from sklearn import metrics  \n",
    "\n",
    "y = data['Price']\n",
    "X = data[[\"Distance from Station (miles)\", \"Commute Time\",\"property_encoded\"]]\n",
    "#X = data['Distance from Station (miles)'].values.reshape(-1,1)\n",
    "\n",
    "X_train, X_test, y_train, y_test = train_test_split(X, y, train_size=0.85)\n",
    "\n",
    "regressor = LinearRegression()  \n",
    "regressor.fit(X_train, y_train) \n",
    "\n",
    "y_pred = regressor.predict(X_train) \n",
    "print(\"R2_score: \" ,r2_score(y_train, y_pred))\n",
    "print('Mean Absolute Error (Train set):',metrics.mean_absolute_error(y_train, y_pred)) \n",
    "rmse = np.sqrt(np.mean((y_train - y_pred)**2))\n",
    "print('Root Mean Absolute Error (Train set):',rmse)"
   ]
  },
  {
   "cell_type": "code",
   "execution_count": 19,
   "id": "df4824b5",
   "metadata": {
    "execution": {
     "iopub.execute_input": "2022-08-09T09:51:33.720098Z",
     "iopub.status.busy": "2022-08-09T09:51:33.719784Z",
     "iopub.status.idle": "2022-08-09T09:51:35.449691Z",
     "shell.execute_reply": "2022-08-09T09:51:35.449053Z"
    },
    "papermill": {
     "duration": 1.742259,
     "end_time": "2022-08-09T09:51:35.451798",
     "exception": false,
     "start_time": "2022-08-09T09:51:33.709539",
     "status": "completed"
    },
    "tags": []
   },
   "outputs": [
    {
     "name": "stdout",
     "output_type": "stream",
     "text": [
      "Root Mean Squared Error (Train set): 23740.44289543448\n"
     ]
    },
    {
     "data": {
      "text/plain": [
       "0.8332764116575592"
      ]
     },
     "execution_count": 19,
     "metadata": {},
     "output_type": "execute_result"
    }
   ],
   "source": [
    "from sklearn.neighbors import KNeighborsClassifier\n",
    "from sklearn.metrics import mean_squared_error\n",
    "from math import sqrt\n",
    "y = data['Price']\n",
    "X = data.drop(['Price','Date Added New'], axis=1)\n",
    "X_train, X_test, y_train, y_test = train_test_split(X, y, train_size=0.85)\n",
    "knn_model = KNeighborsClassifier(n_neighbors=1)\n",
    "knn_model.fit(X_train, y_train)\n",
    "\n",
    "train_preds = knn_model.predict(X_train)\n",
    "mse = mean_squared_error(y_train, train_preds)\n",
    "rmse = sqrt(mse)\n",
    "print('Root Mean Squared Error (Train set):',rmse)\n",
    "knn_model.score(X_train,y_train)"
   ]
  },
  {
   "cell_type": "code",
   "execution_count": 20,
   "id": "7e11609c",
   "metadata": {
    "execution": {
     "iopub.execute_input": "2022-08-09T09:51:35.469582Z",
     "iopub.status.busy": "2022-08-09T09:51:35.469237Z",
     "iopub.status.idle": "2022-08-09T09:51:35.769493Z",
     "shell.execute_reply": "2022-08-09T09:51:35.768121Z"
    },
    "papermill": {
     "duration": 0.311662,
     "end_time": "2022-08-09T09:51:35.771482",
     "exception": false,
     "start_time": "2022-08-09T09:51:35.459820",
     "status": "completed"
    },
    "tags": []
   },
   "outputs": [
    {
     "name": "stdout",
     "output_type": "stream",
     "text": [
      "Root Mean Squared Error (Test set): 56105.74251261732\n"
     ]
    },
    {
     "data": {
      "text/plain": [
       "0.12385099177552007"
      ]
     },
     "execution_count": 20,
     "metadata": {},
     "output_type": "execute_result"
    }
   ],
   "source": [
    "test_preds = knn_model.predict(X_test)\n",
    "mse = mean_squared_error(y_test, test_preds)\n",
    "rmse = sqrt(mse)\n",
    "print('Root Mean Squared Error (Test set):',rmse)\n",
    "knn_model.score(X_test,y_test)"
   ]
  },
  {
   "cell_type": "markdown",
   "id": "3d5db0a9",
   "metadata": {
    "papermill": {
     "duration": 0.00695,
     "end_time": "2022-08-09T09:51:35.785717",
     "exception": false,
     "start_time": "2022-08-09T09:51:35.778767",
     "status": "completed"
    },
    "tags": []
   },
   "source": []
  },
  {
   "cell_type": "markdown",
   "id": "92a24a5a",
   "metadata": {
    "papermill": {
     "duration": 0.006901,
     "end_time": "2022-08-09T09:51:35.799756",
     "exception": false,
     "start_time": "2022-08-09T09:51:35.792855",
     "status": "completed"
    },
    "tags": []
   },
   "source": [
    "Wow this is unsatisfactory! I will work on my local machine to achieve a better result. "
   ]
  },
  {
   "cell_type": "code",
   "execution_count": null,
   "id": "30a12670",
   "metadata": {
    "papermill": {
     "duration": 0.007055,
     "end_time": "2022-08-09T09:51:35.814081",
     "exception": false,
     "start_time": "2022-08-09T09:51:35.807026",
     "status": "completed"
    },
    "tags": []
   },
   "outputs": [],
   "source": []
  }
 ],
 "metadata": {
  "kernelspec": {
   "display_name": "Python 3",
   "language": "python",
   "name": "python3"
  },
  "language_info": {
   "codemirror_mode": {
    "name": "ipython",
    "version": 3
   },
   "file_extension": ".py",
   "mimetype": "text/x-python",
   "name": "python",
   "nbconvert_exporter": "python",
   "pygments_lexer": "ipython3",
   "version": "3.7.12"
  },
  "papermill": {
   "default_parameters": {},
   "duration": 33.110838,
   "end_time": "2022-08-09T09:51:36.440587",
   "environment_variables": {},
   "exception": null,
   "input_path": "__notebook__.ipynb",
   "output_path": "__notebook__.ipynb",
   "parameters": {},
   "start_time": "2022-08-09T09:51:03.329749",
   "version": "2.3.4"
  }
 },
 "nbformat": 4,
 "nbformat_minor": 5
}
